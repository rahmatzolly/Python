{
 "cells": [
  {
   "cell_type": "markdown",
   "id": "168429ba-6928-4b69-a8de-851ce70dacdf",
   "metadata": {},
   "source": [
    "##### String join()\n",
    "\n",
    "* In Python, the join() method is a string method that allows you to concatenate elements from an iterable (e.g., a list, tuple, or string) into a single string. It creates a new string by joining each element of the iterable with a specified string as a separator.\n",
    "  \n",
    "* The syntax for using the join():\n",
    "\n",
    "  separator_string.join(iterable)\n",
    "  \n",
    "* Here,separator_string is the string that will be used to separate the elements in the final string\n",
    "\n",
    "Join is important and widely used"
   ]
  },
  {
   "cell_type": "code",
   "execution_count": 9,
   "id": "c18aafda-a23c-4031-bc91-c38d6678ef71",
   "metadata": {},
   "outputs": [],
   "source": [
    "words = [\"Hello\", \"world\", \"Python\", \"programming\"]"
   ]
  },
  {
   "cell_type": "code",
   "execution_count": 10,
   "id": "6b85f292-aa50-458f-8429-9e084e4e5aed",
   "metadata": {},
   "outputs": [
    {
     "name": "stdout",
     "output_type": "stream",
     "text": [
      "HelloworldPythonprogramming\n"
     ]
    }
   ],
   "source": [
    "print(\"\".join(words))"
   ]
  },
  {
   "cell_type": "code",
   "execution_count": 7,
   "id": "3c0eaae9-0405-425f-848c-726c2602691d",
   "metadata": {},
   "outputs": [
    {
     "name": "stdout",
     "output_type": "stream",
     "text": [
      "apple,banana,orange,mango\n"
     ]
    }
   ],
   "source": [
    "# Joining elements of a list into a single string using a comma as the separator\n",
    "fruits = [\"apple\", \"banana\", \"orange\", \"mango\"]\n",
    "separator = \",\"\n",
    "result = separator.join(fruits)\n",
    "print(result)"
   ]
  },
  {
   "cell_type": "markdown",
   "id": "5d804fc1-37c0-40d3-a130-b5fa6d116bae",
   "metadata": {},
   "source": [
    "* \n",
    "When joining a string with a dictionary, it will join with the keys of a Python dictionary, not with values."
   ]
  },
  {
   "cell_type": "code",
   "execution_count": 8,
   "id": "55495a35-d31c-4a18-a072-919d83c21716",
   "metadata": {},
   "outputs": [
    {
     "name": "stdout",
     "output_type": "stream",
     "text": [
      "nameTESTcountry\n"
     ]
    }
   ],
   "source": [
    "myDict = {\"name\": \"John\", \"country\": \"Norway\"}\n",
    "mySeparator = \"TEST\"\n",
    "\n",
    "x = mySeparator.join(myDict)\n",
    "\n",
    "print(x)"
   ]
  },
  {
   "cell_type": "code",
   "execution_count": 3,
   "id": "4e31533c-1a9d-4d88-bc5b-0a1f383e4f0f",
   "metadata": {},
   "outputs": [
    {
     "name": "stdout",
     "output_type": "stream",
     "text": [
      "JohnPeterVicky\n"
     ]
    }
   ],
   "source": [
    "myTuple = (\"John\", \"Peter\", \"Vicky\")\n",
    "\n",
    "x = \"\".join(myTuple)\n",
    "\n",
    "print(x)"
   ]
  },
  {
   "cell_type": "markdown",
   "id": "4eca2b4d-45ec-437f-a650-ff082d982665",
   "metadata": {},
   "source": [
    "##### Nested dictionary \n",
    "It is a dictionary that contains other dictionaries as its values. It allows you to create hierarchical data structures and is particularly useful for representing data with multiple levels of information. Here's an example of a nested dictionary in Python:"
   ]
  },
  {
   "cell_type": "code",
   "execution_count": 24,
   "id": "6519eb6c-c517-448b-93f0-36f840cde513",
   "metadata": {},
   "outputs": [],
   "source": [
    "# Example of a nested dictionary representing information about employees\n",
    "employees = {\n",
    "    \"John\": {\n",
    "        \"age\": 30,\n",
    "        \"position\": \"Manager\",\n",
    "        \"salary\": 50000\n",
    "    },\n",
    "    \"Alice\": {\n",
    "        \"age\": 25,\n",
    "        \"position\": \"Software Engineer\",\n",
    "        \"salary\": 40000\n",
    "    },\n",
    "    \"Bob\": {\n",
    "        \"age\": 28,\n",
    "        \"position\": \"Data Scientist\",\n",
    "        \"salary\": 45000\n",
    "    }\n",
    "}"
   ]
  },
  {
   "cell_type": "markdown",
   "id": "dcc73c1b-acbf-4280-b31b-0640137d3a33",
   "metadata": {},
   "source": [
    "In this example, employees is a dictionary where the keys are the names of the employees (\"John,\" \"Alice,\" and \"Bob\"), and the values are inner dictionaries containing information about each employee. Each inner dictionary contains three key-value pairs: \"age,\" \"position,\" and \"salary.\"\n",
    "\n",
    "You can access the nested data by chaining the keys together. For example:"
   ]
  },
  {
   "cell_type": "code",
   "execution_count": 25,
   "id": "ff9d5f40-6cf6-4937-80d5-11c296c586af",
   "metadata": {},
   "outputs": [
    {
     "name": "stdout",
     "output_type": "stream",
     "text": [
      "30\n",
      "Manager\n",
      "50000\n"
     ]
    }
   ],
   "source": [
    "# Accessing information about John\n",
    "print(employees[\"John\"][\"age\"])  # Output: 30\n",
    "print(employees[\"John\"][\"position\"])  # Output: \"Manager\"\n",
    "print(employees[\"John\"][\"salary\"])  # Output: 5000"
   ]
  },
  {
   "cell_type": "code",
   "execution_count": 26,
   "id": "c7199a8a-ded1-4d80-b72c-beab8f076257",
   "metadata": {},
   "outputs": [
    {
     "data": {
      "text/plain": [
       "{'John': {'age': 30, 'position': 'Manager', 'salary': 50000},\n",
       " 'Alice': {'age': 25, 'position': 'Software Engineer', 'salary': 40000},\n",
       " 'Bob': {'age': 28, 'position': 'Data Scientist', 'salary': 45000}}"
      ]
     },
     "execution_count": 26,
     "metadata": {},
     "output_type": "execute_result"
    }
   ],
   "source": [
    "employees"
   ]
  },
  {
   "cell_type": "markdown",
   "id": "7457d33e-f4f8-4b15-b298-b114f94ac837",
   "metadata": {},
   "source": [
    "You can also modify or add new data to the nested dictionary:"
   ]
  },
  {
   "cell_type": "code",
   "execution_count": 27,
   "id": "1b7b7bbe-b5a8-4ac7-84c9-810f372d452d",
   "metadata": {},
   "outputs": [],
   "source": [
    "# Modifying data for Bob\n",
    "employees[\"Bob\"][\"salary\"] = 48000"
   ]
  },
  {
   "cell_type": "code",
   "execution_count": 28,
   "id": "e3ae2e13-346b-45f0-a225-ffe08a7711e0",
   "metadata": {},
   "outputs": [
    {
     "data": {
      "text/plain": [
       "{'John': {'age': 30, 'position': 'Manager', 'salary': 50000},\n",
       " 'Alice': {'age': 25, 'position': 'Software Engineer', 'salary': 40000},\n",
       " 'Bob': {'age': 28, 'position': 'Data Scientist', 'salary': 48000}}"
      ]
     },
     "execution_count": 28,
     "metadata": {},
     "output_type": "execute_result"
    }
   ],
   "source": [
    "employees"
   ]
  },
  {
   "cell_type": "code",
   "execution_count": 29,
   "id": "2ef57713-5cff-4746-9721-dd62afd9d4c3",
   "metadata": {},
   "outputs": [],
   "source": [
    "# Adding a new employee\n",
    "employees[\"Eve\"] = {\n",
    "    \"age\": 22,\n",
    "    \"position\": \"Intern\",\n",
    "    \"salary\": 25000\n",
    "}"
   ]
  },
  {
   "cell_type": "code",
   "execution_count": 30,
   "id": "a26d7eea-2116-49d3-91f0-4dfee6053cb6",
   "metadata": {},
   "outputs": [
    {
     "data": {
      "text/plain": [
       "{'John': {'age': 30, 'position': 'Manager', 'salary': 50000},\n",
       " 'Alice': {'age': 25, 'position': 'Software Engineer', 'salary': 40000},\n",
       " 'Bob': {'age': 28, 'position': 'Data Scientist', 'salary': 48000},\n",
       " 'Eve': {'age': 22, 'position': 'Intern', 'salary': 25000}}"
      ]
     },
     "execution_count": 30,
     "metadata": {},
     "output_type": "execute_result"
    }
   ],
   "source": [
    "employees"
   ]
  },
  {
   "cell_type": "markdown",
   "id": "b661cedf",
   "metadata": {},
   "source": [
    "### Python Decision Making Statement\n",
    "\n",
    "Decision-making statements, also known as conditional statements, are fundamental programming constructs that allow a program to make decisions and execute different blocks of code based on certain conditions. These statements are essential for adding logic and flexibility to your code, enabling it to adapt and respond dynamically to different scenarios.\n",
    "\n",
    "In real life, we constantly make decisions based on certain conditions. Let's take the example of deciding whether or not to take an umbrella before leaving the house:\n",
    "\n",
    "Real-life example: Deciding to Take an Umbrella\n",
    "\n",
    "Imagine you are about to leave your house, and you look outside to check the weather conditions. Based on what you see, you make a decision about whether to take an umbrella with you or not."
   ]
  },
  {
   "cell_type": "markdown",
   "id": "2b581d2a",
   "metadata": {},
   "source": [
    "#### If-else statement"
   ]
  },
  {
   "cell_type": "code",
   "execution_count": 46,
   "id": "ef5d5350",
   "metadata": {},
   "outputs": [],
   "source": [
    "a=20\n",
    "b=10"
   ]
  },
  {
   "cell_type": "code",
   "execution_count": 47,
   "id": "37f6f884",
   "metadata": {},
   "outputs": [
    {
     "name": "stdout",
     "output_type": "stream",
     "text": [
      "b is greater than a\n"
     ]
    }
   ],
   "source": [
    "if a>b:\n",
    "    print(\"b is greater than a\") # indentation\n",
    "    "
   ]
  },
  {
   "cell_type": "code",
   "execution_count": 48,
   "id": "07b5b189",
   "metadata": {},
   "outputs": [],
   "source": [
    "if b>a:\n",
    "    print(\"b is greater than a\") "
   ]
  },
  {
   "cell_type": "code",
   "execution_count": 49,
   "id": "b9a4f6f3",
   "metadata": {},
   "outputs": [
    {
     "name": "stdout",
     "output_type": "stream",
     "text": [
      "a is greater than b\n"
     ]
    }
   ],
   "source": [
    "if b>a:\n",
    "    print(\"b is greater than a\") \n",
    "else:\n",
    "    print(\"a is greater than b\") "
   ]
  },
  {
   "cell_type": "code",
   "execution_count": 50,
   "id": "5e993596",
   "metadata": {},
   "outputs": [],
   "source": [
    "a = 15\n",
    "b = 30\n",
    "c = 25"
   ]
  },
  {
   "cell_type": "code",
   "execution_count": 52,
   "id": "edb4bb36",
   "metadata": {},
   "outputs": [
    {
     "name": "stdout",
     "output_type": "stream",
     "text": [
      "b is largest\n"
     ]
    }
   ],
   "source": [
    "if (a >= b) and (a >= c):\n",
    "    print(\"a is largest\") \n",
    "elif (b >= a) and (b >= c):\n",
    "    print(\"b is largest\") \n",
    "else:\n",
    "    print(\"c is largest\") "
   ]
  },
  {
   "cell_type": "markdown",
   "id": "95522ec4",
   "metadata": {},
   "source": [
    "* if with tuple"
   ]
  },
  {
   "cell_type": "code",
   "execution_count": 53,
   "id": "4ccfacd2",
   "metadata": {},
   "outputs": [],
   "source": [
    "tup1=('d','e','f')"
   ]
  },
  {
   "cell_type": "code",
   "execution_count": 56,
   "id": "fb652365",
   "metadata": {},
   "outputs": [
    {
     "name": "stdout",
     "output_type": "stream",
     "text": [
      "Value is present in tup1\n"
     ]
    }
   ],
   "source": [
    "if 'd' in tup1:\n",
    "    print(\"Value is present in tup1\")"
   ]
  },
  {
   "cell_type": "code",
   "execution_count": 57,
   "id": "4491c9a5",
   "metadata": {},
   "outputs": [
    {
     "name": "stdout",
     "output_type": "stream",
     "text": [
      "Value is not present in tup1\n"
     ]
    }
   ],
   "source": [
    "if 'z' in tup1:\n",
    "    print(\"Value is present in tup1\")\n",
    "else:\n",
    "    print(\"Value is not present in tup1\")"
   ]
  },
  {
   "cell_type": "markdown",
   "id": "f9765102",
   "metadata": {},
   "source": [
    "* if with list"
   ]
  },
  {
   "cell_type": "code",
   "execution_count": 58,
   "id": "a3bf907c",
   "metadata": {},
   "outputs": [],
   "source": [
    "l1=['a','b','c']"
   ]
  },
  {
   "cell_type": "code",
   "execution_count": 65,
   "id": "8a6ac8e4",
   "metadata": {},
   "outputs": [
    {
     "data": {
      "text/plain": [
       "['a', 'z', 'c']"
      ]
     },
     "execution_count": 65,
     "metadata": {},
     "output_type": "execute_result"
    }
   ],
   "source": [
    "l1"
   ]
  },
  {
   "cell_type": "code",
   "execution_count": 61,
   "id": "b447afbe",
   "metadata": {},
   "outputs": [],
   "source": [
    "if l1[1]=='b':\n",
    "    l1[1]='z'"
   ]
  },
  {
   "cell_type": "code",
   "execution_count": 62,
   "id": "ac020848",
   "metadata": {},
   "outputs": [
    {
     "data": {
      "text/plain": [
       "['a', 'z', 'c']"
      ]
     },
     "execution_count": 62,
     "metadata": {},
     "output_type": "execute_result"
    }
   ],
   "source": [
    "l1"
   ]
  },
  {
   "cell_type": "markdown",
   "id": "6276823a",
   "metadata": {},
   "source": [
    "* if with dictionary "
   ]
  },
  {
   "cell_type": "code",
   "execution_count": 68,
   "id": "3cae644c",
   "metadata": {},
   "outputs": [],
   "source": [
    "grades = {'Math': 85, 'Science': 90, 'History': 78}"
   ]
  },
  {
   "cell_type": "code",
   "execution_count": 69,
   "id": "bcdd8563",
   "metadata": {},
   "outputs": [
    {
     "data": {
      "text/plain": [
       "{'Math': 85, 'Science': 90, 'History': 78}"
      ]
     },
     "execution_count": 69,
     "metadata": {},
     "output_type": "execute_result"
    }
   ],
   "source": [
    "grades"
   ]
  },
  {
   "cell_type": "code",
   "execution_count": 74,
   "id": "d1092eb7",
   "metadata": {},
   "outputs": [],
   "source": [
    "if grades['Math']==85:\n",
    "    grades['Math']= grades['Math'] + 85"
   ]
  },
  {
   "cell_type": "code",
   "execution_count": 75,
   "id": "a2423ae3",
   "metadata": {},
   "outputs": [
    {
     "data": {
      "text/plain": [
       "{'Math': 170, 'Science': 90, 'History': 78}"
      ]
     },
     "execution_count": 75,
     "metadata": {},
     "output_type": "execute_result"
    }
   ],
   "source": [
    "grades"
   ]
  },
  {
   "cell_type": "markdown",
   "id": "ca53be42",
   "metadata": {},
   "source": [
    "### Looping statement\n",
    "\n",
    "It allows you to execute a block of code repeatedly based on a certain condition. Just like real-life examples of doing something repeatedly until a specific condition is met, let's consider the example of making pancakes.\n",
    "\n",
    "Real-life example: Making Pancakes\n",
    "\n",
    "Imagine you want to make pancakes for breakfast, and you have a recipe to follow. The recipe calls for making multiple pancakes until you run out of batter. You'll keep flipping pancakes on the griddle until all the batter is used up. This repetitive process can be modeled using a looping statement."
   ]
  },
  {
   "cell_type": "markdown",
   "id": "7c004eeb",
   "metadata": {},
   "source": [
    "### While Loop"
   ]
  },
  {
   "cell_type": "code",
   "execution_count": 13,
   "id": "d7887e66",
   "metadata": {},
   "outputs": [
    {
     "name": "stdout",
     "output_type": "stream",
     "text": [
      "1\n",
      "2\n",
      "3\n",
      "4\n",
      "5\n",
      "6\n",
      "7\n",
      "8\n",
      "9\n",
      "10\n"
     ]
    }
   ],
   "source": [
    "i=1\n",
    "while i<=10:\n",
    "    print(i)\n",
    "    i=i+1"
   ]
  },
  {
   "cell_type": "code",
   "execution_count": 16,
   "id": "3a6bee9d",
   "metadata": {},
   "outputs": [
    {
     "name": "stdout",
     "output_type": "stream",
     "text": [
      "4  *  1  =  4\n",
      "4  *  2  =  8\n",
      "4  *  3  =  12\n",
      "4  *  4  =  16\n",
      "4  *  5  =  20\n",
      "4  *  6  =  24\n",
      "4  *  7  =  28\n",
      "4  *  8  =  32\n",
      "4  *  9  =  36\n",
      "4  *  10  =  40\n"
     ]
    }
   ],
   "source": [
    "num = 4\n",
    "i = 1\n",
    "\n",
    "while i <= 10:\n",
    "    print(num, \" * \", i, \" = \",num*i)\n",
    "    i += 1"
   ]
  },
  {
   "cell_type": "markdown",
   "id": "2afc2122",
   "metadata": {},
   "source": [
    "### For Loop"
   ]
  },
  {
   "cell_type": "code",
   "execution_count": null,
   "id": "1a11e614",
   "metadata": {},
   "outputs": [],
   "source": [
    "fruits = [\"apple\", \"banana\", \"orange\"]"
   ]
  },
  {
   "cell_type": "code",
   "execution_count": 3,
   "id": "813083d8",
   "metadata": {},
   "outputs": [
    {
     "name": "stdout",
     "output_type": "stream",
     "text": [
      "apple\n",
      "banana\n",
      "orange\n"
     ]
    }
   ],
   "source": [
    "for i in fruits:\n",
    "    print(i)"
   ]
  },
  {
   "cell_type": "code",
   "execution_count": 2,
   "id": "2271dd4e",
   "metadata": {},
   "outputs": [],
   "source": [
    "numbers = [1, 2, 3,]\n",
    "names = [\"Alice\", \"Bob\", \"Charlie\"]"
   ]
  },
  {
   "cell_type": "code",
   "execution_count": 3,
   "id": "330d6fc2",
   "metadata": {},
   "outputs": [
    {
     "name": "stdout",
     "output_type": "stream",
     "text": [
      "1 Alice\n",
      "1 Bob\n",
      "1 Charlie\n",
      "2 Alice\n",
      "2 Bob\n",
      "2 Charlie\n",
      "3 Alice\n",
      "3 Bob\n",
      "3 Charlie\n"
     ]
    }
   ],
   "source": [
    "for i in numbers:\n",
    "    for j in names:\n",
    "        print(i,j)"
   ]
  },
  {
   "cell_type": "markdown",
   "id": "6e1c9b00-a6d7-402f-a881-a70dea682a5e",
   "metadata": {},
   "source": [
    "#### List Comprehension\n",
    "\n",
    "List comprehension offers a shorter syntax when you want to create a new list based on the values of an existing list.\n",
    "\n",
    "SYNTAX: newlist = [expression for item in iterable if condition == True]-->\n",
    "The return value is a new list, leaving the old list unchanged.\n",
    "\n",
    "Example:\n",
    "\n",
    "Based on a list of fruits, you want a new list, containing only the fruits with the letter \"a\" in the name.\n",
    "\n",
    "Without list comprehension you will have to write a for statement with a conditional test inside:"
   ]
  },
  {
   "cell_type": "code",
   "execution_count": 4,
   "id": "e5c96da2-8761-42a3-a96a-cd0f57acc69c",
   "metadata": {},
   "outputs": [
    {
     "name": "stdout",
     "output_type": "stream",
     "text": [
      "['apple', 'banana', 'mango']\n"
     ]
    }
   ],
   "source": [
    "fruits = [\"apple\", \"banana\", \"cherry\", \"kiwi\", \"mango\"]\n",
    "newlist = []\n",
    "\n",
    "for x in fruits:\n",
    "  if \"a\" in x:\n",
    "    newlist.append(x)\n",
    "\n",
    "print(newlist)"
   ]
  },
  {
   "cell_type": "markdown",
   "id": "ab886b1b-7571-4cf9-ad79-524dc764f4d7",
   "metadata": {},
   "source": [
    "* With list comprehension you can do all that with only one line of code:"
   ]
  },
  {
   "cell_type": "code",
   "execution_count": 5,
   "id": "cf53e1db-9e36-4018-8f6e-b41a8632fb2d",
   "metadata": {},
   "outputs": [
    {
     "name": "stdout",
     "output_type": "stream",
     "text": [
      "['apple', 'banana', 'mango']\n"
     ]
    }
   ],
   "source": [
    "fruits = [\"apple\", \"banana\", \"cherry\", \"kiwi\", \"mango\"]\n",
    "\n",
    "newlist = [x for x in fruits if \"a\" in x]\n",
    "\n",
    "print(newlist)"
   ]
  },
  {
   "cell_type": "code",
   "execution_count": 7,
   "id": "14633557-c925-4bb6-bae1-7a68cbc2bcc1",
   "metadata": {},
   "outputs": [
    {
     "data": {
      "text/plain": [
       "['apple', 'banana', 'cherry', 'kiwi', 'mango']"
      ]
     },
     "execution_count": 7,
     "metadata": {},
     "output_type": "execute_result"
    }
   ],
   "source": [
    "newlist1 = [x for x in fruits]\n",
    "newlist1"
   ]
  },
  {
   "cell_type": "code",
   "execution_count": 9,
   "id": "bd5f6441-8612-4c16-9333-eb658065c0be",
   "metadata": {},
   "outputs": [
    {
     "data": {
      "text/plain": [
       "[0, 1, 2, 3, 4, 5, 6, 7, 8, 9]"
      ]
     },
     "execution_count": 9,
     "metadata": {},
     "output_type": "execute_result"
    }
   ],
   "source": [
    "newlist2 = [x for x in range(10)]\n",
    "newlist2"
   ]
  },
  {
   "cell_type": "code",
   "execution_count": 10,
   "id": "3329cb10-7146-45e9-9570-884187db0bbd",
   "metadata": {},
   "outputs": [
    {
     "data": {
      "text/plain": [
       "[0, 1, 2, 3, 4]"
      ]
     },
     "execution_count": 10,
     "metadata": {},
     "output_type": "execute_result"
    }
   ],
   "source": [
    "newlist3 = [x for x in range(10) if x < 5]\n",
    "newlist3"
   ]
  },
  {
   "cell_type": "code",
   "execution_count": 11,
   "id": "5bc3ddd8-eee0-439e-becd-74c744d61fa7",
   "metadata": {},
   "outputs": [
    {
     "data": {
      "text/plain": [
       "['APPLE', 'BANANA', 'CHERRY', 'KIWI', 'MANGO']"
      ]
     },
     "execution_count": 11,
     "metadata": {},
     "output_type": "execute_result"
    }
   ],
   "source": [
    "newlist4 = [x.upper() for x in fruits]\n",
    "newlist4"
   ]
  },
  {
   "cell_type": "markdown",
   "id": "e1536969-7918-4fcc-bb4b-fd72ccec5d47",
   "metadata": {},
   "source": [
    "#### Break And Continue\n",
    "\n",
    "In Python, break and continue are control flow statements used in loops to alter the loop's behavior. Here's an explanation of each with examples:\n",
    "\n",
    "* break: The break statement is used to exit a loop prematurely. When encountered, it immediately terminates the loop, and the program continues executing the code after the loop.\n",
    "* continue: The continue statement is used to skip the rest of the current iteration and continue with the next iteration of the loop."
   ]
  },
  {
   "cell_type": "code",
   "execution_count": 3,
   "id": "11a9a2c8-a427-4e1e-bc16-d2cf9910a8f6",
   "metadata": {},
   "outputs": [
    {
     "name": "stdout",
     "output_type": "stream",
     "text": [
      "1\n",
      "2\n",
      "3\n",
      "4\n",
      "Found 5, breaking out of the loop.\n"
     ]
    }
   ],
   "source": [
    "# Example 1: Breaking out of a loop based on a condition\n",
    "numbers = [1, 2, 3, 4, 5, 6, 7, 8, 9, 10]\n",
    "\n",
    "for num in numbers:\n",
    "    if num == 5:\n",
    "        print(\"Found 5, breaking out of the loop.\")\n",
    "        break\n",
    "    print(num)"
   ]
  },
  {
   "cell_type": "code",
   "execution_count": 4,
   "id": "f69ac5c5-8b05-4cdc-815a-d783be2e0551",
   "metadata": {},
   "outputs": [
    {
     "name": "stdout",
     "output_type": "stream",
     "text": [
      "1\n",
      "2\n",
      "Skipping 3, it's divisible by 3.\n",
      "4\n",
      "5\n",
      "Skipping 6, it's divisible by 3.\n",
      "7\n",
      "8\n",
      "Skipping 9, it's divisible by 3.\n",
      "10\n"
     ]
    }
   ],
   "source": [
    "# Example 2: Skipping numbers divisible by 3 in a loop\n",
    "numbers = [1, 2, 3, 4, 5, 6, 7, 8, 9, 10]\n",
    "\n",
    "for num in numbers:\n",
    "    if num % 3 == 0:\n",
    "        print(f\"Skipping {num}, it's divisible by 3.\")\n",
    "        continue\n",
    "    print(num)"
   ]
  },
  {
   "cell_type": "markdown",
   "id": "8aa6cdc9",
   "metadata": {},
   "source": [
    "### Functions"
   ]
  },
  {
   "cell_type": "code",
   "execution_count": 21,
   "id": "e52ddb67",
   "metadata": {},
   "outputs": [],
   "source": [
    "def hello():\n",
    "    print(\"Hello World\")"
   ]
  },
  {
   "cell_type": "code",
   "execution_count": 26,
   "id": "892b2b62",
   "metadata": {},
   "outputs": [
    {
     "name": "stdout",
     "output_type": "stream",
     "text": [
      "Hello World\n"
     ]
    }
   ],
   "source": [
    "hello()"
   ]
  },
  {
   "cell_type": "code",
   "execution_count": null,
   "id": "7b2ddbc8",
   "metadata": {},
   "outputs": [],
   "source": [
    "def greet(name):\n",
    "    print(\"Hello \",name)"
   ]
  },
  {
   "cell_type": "code",
   "execution_count": 29,
   "id": "cf9d1098",
   "metadata": {},
   "outputs": [
    {
     "name": "stdout",
     "output_type": "stream",
     "text": [
      "Hello  Shailja\n"
     ]
    }
   ],
   "source": [
    "greet(\"Shailja\")"
   ]
  },
  {
   "cell_type": "code",
   "execution_count": 23,
   "id": "4b1aba36",
   "metadata": {},
   "outputs": [],
   "source": [
    "def add_50(x):\n",
    "    return x+50\n",
    "    "
   ]
  },
  {
   "cell_type": "code",
   "execution_count": 24,
   "id": "12af6362",
   "metadata": {},
   "outputs": [
    {
     "data": {
      "text/plain": [
       "60"
      ]
     },
     "execution_count": 24,
     "metadata": {},
     "output_type": "execute_result"
    }
   ],
   "source": [
    "add_50(10)"
   ]
  },
  {
   "cell_type": "code",
   "execution_count": 25,
   "id": "71e9a01d",
   "metadata": {},
   "outputs": [
    {
     "data": {
      "text/plain": [
       "100"
      ]
     },
     "execution_count": 25,
     "metadata": {},
     "output_type": "execute_result"
    }
   ],
   "source": [
    "add_50(50)"
   ]
  },
  {
   "cell_type": "code",
   "execution_count": 33,
   "id": "f4e5bb0d",
   "metadata": {},
   "outputs": [],
   "source": [
    "def even_odd(num):\n",
    "    if num%2==0:\n",
    "        print(num,\" is even\")\n",
    "    else:\n",
    "        print(num,\" is odd\")"
   ]
  },
  {
   "cell_type": "code",
   "execution_count": 34,
   "id": "e160ab24",
   "metadata": {},
   "outputs": [
    {
     "name": "stdout",
     "output_type": "stream",
     "text": [
      "2  is even\n"
     ]
    }
   ],
   "source": [
    "even_odd(2)"
   ]
  },
  {
   "cell_type": "markdown",
   "id": "5ed6f8e3",
   "metadata": {},
   "source": [
    "### Lambda Function"
   ]
  },
  {
   "cell_type": "code",
   "execution_count": 37,
   "id": "7b85e5d9",
   "metadata": {},
   "outputs": [
    {
     "data": {
      "text/plain": [
       "25"
      ]
     },
     "execution_count": 37,
     "metadata": {},
     "output_type": "execute_result"
    }
   ],
   "source": [
    "square = lambda x: x ** 2\n",
    "\n",
    "square(5)"
   ]
  },
  {
   "cell_type": "code",
   "execution_count": null,
   "id": "8d1ac011",
   "metadata": {},
   "outputs": [],
   "source": [
    "#Lambda with filter"
   ]
  },
  {
   "cell_type": "code",
   "execution_count": 48,
   "id": "6687350a",
   "metadata": {},
   "outputs": [],
   "source": [
    "numbers = [1, 2, 3, 4, 5, 6, 7, 8, 9, 10]"
   ]
  },
  {
   "cell_type": "code",
   "execution_count": 49,
   "id": "cbc3ee8d",
   "metadata": {},
   "outputs": [],
   "source": [
    "even_numbers = list(filter(lambda x: x % 2 == 0, numbers))"
   ]
  },
  {
   "cell_type": "code",
   "execution_count": 50,
   "id": "2ad4dc95",
   "metadata": {},
   "outputs": [
    {
     "data": {
      "text/plain": [
       "[2, 4, 6, 8, 10]"
      ]
     },
     "execution_count": 50,
     "metadata": {},
     "output_type": "execute_result"
    }
   ],
   "source": [
    "even_numbers"
   ]
  },
  {
   "cell_type": "code",
   "execution_count": 39,
   "id": "18c8006a",
   "metadata": {},
   "outputs": [],
   "source": [
    "#Lambda with map"
   ]
  },
  {
   "cell_type": "code",
   "execution_count": 45,
   "id": "75d8a4b6",
   "metadata": {},
   "outputs": [],
   "source": [
    "numbers = [1, 2, 3, 4, 5]"
   ]
  },
  {
   "cell_type": "code",
   "execution_count": 46,
   "id": "46a18333",
   "metadata": {},
   "outputs": [],
   "source": [
    "squared_numbers = list(map(lambda x: x ** 2, numbers))"
   ]
  },
  {
   "cell_type": "code",
   "execution_count": 47,
   "id": "aebb1641",
   "metadata": {},
   "outputs": [
    {
     "data": {
      "text/plain": [
       "[1, 4, 9, 16, 25]"
      ]
     },
     "execution_count": 47,
     "metadata": {},
     "output_type": "execute_result"
    }
   ],
   "source": [
    "squared_numbers"
   ]
  },
  {
   "cell_type": "code",
   "execution_count": 51,
   "id": "088671b0",
   "metadata": {},
   "outputs": [],
   "source": [
    "#Lambda with reduce- To get consolidated(one) outcome"
   ]
  },
  {
   "cell_type": "code",
   "execution_count": 52,
   "id": "65827431",
   "metadata": {},
   "outputs": [],
   "source": [
    "from functools import  reduce"
   ]
  },
  {
   "cell_type": "code",
   "execution_count": 53,
   "id": "af91bb80",
   "metadata": {},
   "outputs": [],
   "source": [
    "numbers = [1, 2, 3, 4, 5]"
   ]
  },
  {
   "cell_type": "code",
   "execution_count": 56,
   "id": "7049a4b4",
   "metadata": {},
   "outputs": [],
   "source": [
    "product = reduce(lambda x, y: x + y, numbers)"
   ]
  },
  {
   "cell_type": "code",
   "execution_count": 57,
   "id": "5a5d7ed3",
   "metadata": {},
   "outputs": [
    {
     "data": {
      "text/plain": [
       "15"
      ]
     },
     "execution_count": 57,
     "metadata": {},
     "output_type": "execute_result"
    }
   ],
   "source": [
    "product"
   ]
  }
 ],
 "metadata": {
  "kernelspec": {
   "display_name": "Python 3 (ipykernel)",
   "language": "python",
   "name": "python3"
  },
  "language_info": {
   "codemirror_mode": {
    "name": "ipython",
    "version": 3
   },
   "file_extension": ".py",
   "mimetype": "text/x-python",
   "name": "python",
   "nbconvert_exporter": "python",
   "pygments_lexer": "ipython3",
   "version": "3.10.11"
  }
 },
 "nbformat": 4,
 "nbformat_minor": 5
}
