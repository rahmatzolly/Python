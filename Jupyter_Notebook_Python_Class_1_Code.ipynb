{
 "cells": [
  {
   "cell_type": "code",
   "execution_count": 1,
   "id": "9e040c00",
   "metadata": {},
   "outputs": [
    {
     "name": "stdout",
     "output_type": "stream",
     "text": [
      "My first python Program\n"
     ]
    }
   ],
   "source": [
    "print(\"My first python Program\")"
   ]
  },
  {
   "cell_type": "markdown",
   "id": "4236e287",
   "metadata": {},
   "source": [
    "#### Variables in Python"
   ]
  },
  {
   "cell_type": "code",
   "execution_count": 2,
   "id": "56d8f55c",
   "metadata": {},
   "outputs": [],
   "source": [
    "favorite_color = \"blue\"\n"
   ]
  },
  {
   "cell_type": "code",
   "execution_count": 3,
   "id": "23463909",
   "metadata": {},
   "outputs": [
    {
     "data": {
      "text/plain": [
       "'blue'"
      ]
     },
     "execution_count": 3,
     "metadata": {},
     "output_type": "execute_result"
    }
   ],
   "source": [
    "favorite_color"
   ]
  },
  {
   "cell_type": "code",
   "execution_count": 4,
   "id": "5654e013",
   "metadata": {},
   "outputs": [],
   "source": [
    "favorite_color = \"green\"\n"
   ]
  },
  {
   "cell_type": "code",
   "execution_count": 5,
   "id": "8f708025",
   "metadata": {},
   "outputs": [
    {
     "data": {
      "text/plain": [
       "'green'"
      ]
     },
     "execution_count": 5,
     "metadata": {},
     "output_type": "execute_result"
    }
   ],
   "source": [
    "favorite_color"
   ]
  },
  {
   "cell_type": "markdown",
   "id": "0b8bb042",
   "metadata": {},
   "source": [
    "#### Data Types in Python"
   ]
  },
  {
   "cell_type": "code",
   "execution_count": 8,
   "id": "4ff070e2",
   "metadata": {},
   "outputs": [],
   "source": [
    "# Integers\n",
    "age = 10\n",
    "number_of_toys = 25\n",
    "\n",
    "# Floating-Point Numbers\n",
    "pi = 3.14\n",
    "temperature = 25.5\n",
    "\n",
    "# Boolean\n",
    "is_sunny = True\n",
    "is_raining = False\n",
    "\n",
    "# String\n",
    "name = \"Alice\"\n",
    "favorite_color = \"blue\"\n",
    "greeting = \"Hello, how are you?\"\n",
    "\n",
    "# complex\n",
    "complex_number=3+4j"
   ]
  },
  {
   "cell_type": "code",
   "execution_count": 10,
   "id": "31cd7cd4",
   "metadata": {},
   "outputs": [
    {
     "data": {
      "text/plain": [
       "10"
      ]
     },
     "execution_count": 10,
     "metadata": {},
     "output_type": "execute_result"
    }
   ],
   "source": [
    "a=10\n",
    "a"
   ]
  },
  {
   "cell_type": "code",
   "execution_count": 11,
   "id": "883deed6",
   "metadata": {},
   "outputs": [
    {
     "data": {
      "text/plain": [
       "int"
      ]
     },
     "execution_count": 11,
     "metadata": {},
     "output_type": "execute_result"
    }
   ],
   "source": [
    "type(a)"
   ]
  },
  {
   "cell_type": "code",
   "execution_count": 12,
   "id": "7785cc6d",
   "metadata": {},
   "outputs": [
    {
     "data": {
      "text/plain": [
       "5.933"
      ]
     },
     "execution_count": 12,
     "metadata": {},
     "output_type": "execute_result"
    }
   ],
   "source": [
    "a=5.933\n",
    "a"
   ]
  },
  {
   "cell_type": "code",
   "execution_count": 13,
   "id": "1941ac18",
   "metadata": {},
   "outputs": [
    {
     "data": {
      "text/plain": [
       "float"
      ]
     },
     "execution_count": 13,
     "metadata": {},
     "output_type": "execute_result"
    }
   ],
   "source": [
    "type(a)"
   ]
  },
  {
   "cell_type": "code",
   "execution_count": 17,
   "id": "b493bce4",
   "metadata": {},
   "outputs": [
    {
     "data": {
      "text/plain": [
       "False"
      ]
     },
     "execution_count": 17,
     "metadata": {},
     "output_type": "execute_result"
    }
   ],
   "source": [
    "a=False\n",
    "a"
   ]
  },
  {
   "cell_type": "code",
   "execution_count": 18,
   "id": "a92cfed3",
   "metadata": {},
   "outputs": [
    {
     "data": {
      "text/plain": [
       "bool"
      ]
     },
     "execution_count": 18,
     "metadata": {},
     "output_type": "execute_result"
    }
   ],
   "source": [
    "type(a)"
   ]
  },
  {
   "cell_type": "code",
   "execution_count": 14,
   "id": "dad40def",
   "metadata": {},
   "outputs": [
    {
     "data": {
      "text/plain": [
       "' My name is Shailja'"
      ]
     },
     "execution_count": 14,
     "metadata": {},
     "output_type": "execute_result"
    }
   ],
   "source": [
    "a=\" My name is Shailja\"\n",
    "a"
   ]
  },
  {
   "cell_type": "code",
   "execution_count": 15,
   "id": "3f54bc7c",
   "metadata": {},
   "outputs": [
    {
     "data": {
      "text/plain": [
       "str"
      ]
     },
     "execution_count": 15,
     "metadata": {},
     "output_type": "execute_result"
    }
   ],
   "source": [
    "type(a)"
   ]
  },
  {
   "cell_type": "code",
   "execution_count": 19,
   "id": "7af0165a",
   "metadata": {},
   "outputs": [
    {
     "data": {
      "text/plain": [
       "(2+7j)"
      ]
     },
     "execution_count": 19,
     "metadata": {},
     "output_type": "execute_result"
    }
   ],
   "source": [
    "a=2+7j\n",
    "a"
   ]
  },
  {
   "cell_type": "code",
   "execution_count": 20,
   "id": "f6e75bbd",
   "metadata": {},
   "outputs": [
    {
     "data": {
      "text/plain": [
       "complex"
      ]
     },
     "execution_count": 20,
     "metadata": {},
     "output_type": "execute_result"
    }
   ],
   "source": [
    "type(a)"
   ]
  },
  {
   "cell_type": "markdown",
   "id": "31408ee2",
   "metadata": {},
   "source": [
    "#### Comments in Python \n",
    "\n",
    "* In Python, comments are lines of text that are not executed as part of the program. They are used to provide explanations, notes, or reminders to the programmers or other readers of the code. Comments are ignored by the Python interpreter, so they have no effect on the program's functionality.\n",
    "\n",
    "* Comments are incredibly helpful because they make the code more readable and understandable. They allow programmers to explain their code, describe the purpose of certain sections, or leave reminders for future updates."
   ]
  },
  {
   "cell_type": "code",
   "execution_count": 25,
   "id": "030e9676",
   "metadata": {},
   "outputs": [],
   "source": [
    "#This is a single-line comment.\n"
   ]
  },
  {
   "cell_type": "code",
   "execution_count": 28,
   "id": "266678a2",
   "metadata": {},
   "outputs": [
    {
     "ename": "SyntaxError",
     "evalue": "invalid syntax (3482766077.py, line 1)",
     "output_type": "error",
     "traceback": [
      "\u001b[1;36m  Cell \u001b[1;32mIn [28], line 1\u001b[1;36m\u001b[0m\n\u001b[1;33m    This is a single-line comment.\u001b[0m\n\u001b[1;37m              ^\u001b[0m\n\u001b[1;31mSyntaxError\u001b[0m\u001b[1;31m:\u001b[0m invalid syntax\n"
     ]
    }
   ],
   "source": [
    "This is a single-line comment.\n"
   ]
  },
  {
   "cell_type": "code",
   "execution_count": 26,
   "id": "92ae65bb",
   "metadata": {},
   "outputs": [
    {
     "data": {
      "text/plain": [
       "'\\nThis is a multi-line comment.\\nYou can write as much as you want in here.\\nComments are really useful!\\n'"
      ]
     },
     "execution_count": 26,
     "metadata": {},
     "output_type": "execute_result"
    }
   ],
   "source": [
    "'''\n",
    "This is a multi-line comment.\n",
    "You can write as much as you want in here.\n",
    "Comments are really useful!\n",
    "'''\n"
   ]
  },
  {
   "cell_type": "code",
   "execution_count": 27,
   "id": "49c29ca2",
   "metadata": {},
   "outputs": [
    {
     "ename": "SyntaxError",
     "evalue": "invalid syntax (2049392598.py, line 1)",
     "output_type": "error",
     "traceback": [
      "\u001b[1;36m  Cell \u001b[1;32mIn [27], line 1\u001b[1;36m\u001b[0m\n\u001b[1;33m    This is a multi-line comment.\u001b[0m\n\u001b[1;37m              ^\u001b[0m\n\u001b[1;31mSyntaxError\u001b[0m\u001b[1;31m:\u001b[0m invalid syntax\n"
     ]
    }
   ],
   "source": [
    "This is a multi-line comment.\n",
    "You can write as much as you want in here.\n",
    "Comments are really useful!\n",
    "\n"
   ]
  },
  {
   "cell_type": "markdown",
   "id": "df7bec0e",
   "metadata": {},
   "source": [
    "### Operators in Python"
   ]
  },
  {
   "cell_type": "markdown",
   "id": "bc5b2934",
   "metadata": {},
   "source": [
    "#### Arithmetic Operators:\n",
    "Arithmetic operators are used to perform basic mathematical operations."
   ]
  },
  {
   "cell_type": "code",
   "execution_count": 31,
   "id": "fd50f7ce",
   "metadata": {},
   "outputs": [
    {
     "data": {
      "text/plain": [
       "(10, 5)"
      ]
     },
     "execution_count": 31,
     "metadata": {},
     "output_type": "execute_result"
    }
   ],
   "source": [
    "a = 10\n",
    "b = 5\n",
    "a,b"
   ]
  },
  {
   "cell_type": "code",
   "execution_count": 32,
   "id": "12c508f6",
   "metadata": {},
   "outputs": [
    {
     "data": {
      "text/plain": [
       "15"
      ]
     },
     "execution_count": 32,
     "metadata": {},
     "output_type": "execute_result"
    }
   ],
   "source": [
    "a+b"
   ]
  },
  {
   "cell_type": "code",
   "execution_count": 33,
   "id": "8105da71",
   "metadata": {},
   "outputs": [
    {
     "data": {
      "text/plain": [
       "5"
      ]
     },
     "execution_count": 33,
     "metadata": {},
     "output_type": "execute_result"
    }
   ],
   "source": [
    "a-b"
   ]
  },
  {
   "cell_type": "code",
   "execution_count": 34,
   "id": "1fc5d2f8",
   "metadata": {},
   "outputs": [
    {
     "data": {
      "text/plain": [
       "50"
      ]
     },
     "execution_count": 34,
     "metadata": {},
     "output_type": "execute_result"
    }
   ],
   "source": [
    "a*b"
   ]
  },
  {
   "cell_type": "code",
   "execution_count": 35,
   "id": "36d1c992",
   "metadata": {},
   "outputs": [
    {
     "data": {
      "text/plain": [
       "2.0"
      ]
     },
     "execution_count": 35,
     "metadata": {},
     "output_type": "execute_result"
    }
   ],
   "source": [
    "a/b"
   ]
  },
  {
   "cell_type": "code",
   "execution_count": 36,
   "id": "7483b28c",
   "metadata": {},
   "outputs": [
    {
     "data": {
      "text/plain": [
       "0"
      ]
     },
     "execution_count": 36,
     "metadata": {},
     "output_type": "execute_result"
    }
   ],
   "source": [
    "a%b  # Modulus (returns the remainder of the division)"
   ]
  },
  {
   "cell_type": "markdown",
   "id": "9fc9677e",
   "metadata": {},
   "source": [
    "#### Relational Operators:\n",
    "Relational operators are used to compare values and return True or False."
   ]
  },
  {
   "cell_type": "code",
   "execution_count": 38,
   "id": "3e914111",
   "metadata": {},
   "outputs": [
    {
     "data": {
      "text/plain": [
       "(100, 50)"
      ]
     },
     "execution_count": 38,
     "metadata": {},
     "output_type": "execute_result"
    }
   ],
   "source": [
    "a = 100\n",
    "b = 50\n",
    "\n",
    "a,b"
   ]
  },
  {
   "cell_type": "code",
   "execution_count": 39,
   "id": "95051aaa",
   "metadata": {},
   "outputs": [
    {
     "data": {
      "text/plain": [
       "False"
      ]
     },
     "execution_count": 39,
     "metadata": {},
     "output_type": "execute_result"
    }
   ],
   "source": [
    "# Equal to\n",
    "a == b"
   ]
  },
  {
   "cell_type": "code",
   "execution_count": 41,
   "id": "89193627",
   "metadata": {},
   "outputs": [
    {
     "data": {
      "text/plain": [
       "True"
      ]
     },
     "execution_count": 41,
     "metadata": {},
     "output_type": "execute_result"
    }
   ],
   "source": [
    "# Not equal to\n",
    "a != b "
   ]
  },
  {
   "cell_type": "code",
   "execution_count": 42,
   "id": "205a17ca",
   "metadata": {},
   "outputs": [
    {
     "data": {
      "text/plain": [
       "True"
      ]
     },
     "execution_count": 42,
     "metadata": {},
     "output_type": "execute_result"
    }
   ],
   "source": [
    "# Greater than\n",
    "a > b "
   ]
  },
  {
   "cell_type": "code",
   "execution_count": 43,
   "id": "f49a85d0",
   "metadata": {},
   "outputs": [
    {
     "data": {
      "text/plain": [
       "False"
      ]
     },
     "execution_count": 43,
     "metadata": {},
     "output_type": "execute_result"
    }
   ],
   "source": [
    "# Less than\n",
    "a < b "
   ]
  },
  {
   "cell_type": "code",
   "execution_count": 44,
   "id": "6fd2ab6b",
   "metadata": {},
   "outputs": [
    {
     "data": {
      "text/plain": [
       "True"
      ]
     },
     "execution_count": 44,
     "metadata": {},
     "output_type": "execute_result"
    }
   ],
   "source": [
    "# Greater than or equal to\n",
    "a >= b "
   ]
  },
  {
   "cell_type": "code",
   "execution_count": 45,
   "id": "5f679a03",
   "metadata": {},
   "outputs": [
    {
     "data": {
      "text/plain": [
       "False"
      ]
     },
     "execution_count": 45,
     "metadata": {},
     "output_type": "execute_result"
    }
   ],
   "source": [
    "# Less than or equal to\n",
    "a <= b"
   ]
  },
  {
   "cell_type": "markdown",
   "id": "776f2979",
   "metadata": {},
   "source": [
    "### Logical Operators\n",
    "Logical operators are used to combine multiple conditions and return True or False."
   ]
  },
  {
   "cell_type": "code",
   "execution_count": 46,
   "id": "71c81ba4",
   "metadata": {},
   "outputs": [],
   "source": [
    "x = True\n",
    "y = False"
   ]
  },
  {
   "cell_type": "code",
   "execution_count": 47,
   "id": "9f555eb1",
   "metadata": {},
   "outputs": [
    {
     "data": {
      "text/plain": [
       "False"
      ]
     },
     "execution_count": 47,
     "metadata": {},
     "output_type": "execute_result"
    }
   ],
   "source": [
    "# Logical AND (both conditions must be True for the result to be True)\n",
    "x and y "
   ]
  },
  {
   "cell_type": "code",
   "execution_count": 50,
   "id": "5a2910a1",
   "metadata": {},
   "outputs": [
    {
     "data": {
      "text/plain": [
       "False"
      ]
     },
     "execution_count": 50,
     "metadata": {},
     "output_type": "execute_result"
    }
   ],
   "source": [
    "x & y"
   ]
  },
  {
   "cell_type": "code",
   "execution_count": 48,
   "id": "35a93272",
   "metadata": {},
   "outputs": [
    {
     "data": {
      "text/plain": [
       "True"
      ]
     },
     "execution_count": 48,
     "metadata": {},
     "output_type": "execute_result"
    }
   ],
   "source": [
    "# Logical OR (at least one condition must be True for the result to be True)\n",
    "x or y "
   ]
  },
  {
   "cell_type": "code",
   "execution_count": 51,
   "id": "7820dcf9",
   "metadata": {},
   "outputs": [
    {
     "data": {
      "text/plain": [
       "True"
      ]
     },
     "execution_count": 51,
     "metadata": {},
     "output_type": "execute_result"
    }
   ],
   "source": [
    "x| y"
   ]
  },
  {
   "cell_type": "code",
   "execution_count": 49,
   "id": "64ec493e",
   "metadata": {},
   "outputs": [
    {
     "data": {
      "text/plain": [
       "False"
      ]
     },
     "execution_count": 49,
     "metadata": {},
     "output_type": "execute_result"
    }
   ],
   "source": [
    "# Logical NOT (inverts the result)\n",
    "not x  "
   ]
  },
  {
   "cell_type": "markdown",
   "id": "8de2970c",
   "metadata": {},
   "source": [
    "#### Assignment Operators:\n",
    "Assignment operators are used to assign values to variables."
   ]
  },
  {
   "cell_type": "code",
   "execution_count": 52,
   "id": "806b4754",
   "metadata": {},
   "outputs": [
    {
     "data": {
      "text/plain": [
       "10"
      ]
     },
     "execution_count": 52,
     "metadata": {},
     "output_type": "execute_result"
    }
   ],
   "source": [
    "a = 10  # Simple assignment\n",
    "a"
   ]
  },
  {
   "cell_type": "code",
   "execution_count": 54,
   "id": "e3307677",
   "metadata": {},
   "outputs": [
    {
     "data": {
      "text/plain": [
       "20"
      ]
     },
     "execution_count": 54,
     "metadata": {},
     "output_type": "execute_result"
    }
   ],
   "source": [
    "# Addition assignment (same as a = a + 5)\n",
    "a += 5 \n",
    "a"
   ]
  },
  {
   "cell_type": "code",
   "execution_count": 55,
   "id": "68a93f07",
   "metadata": {},
   "outputs": [
    {
     "data": {
      "text/plain": [
       "17"
      ]
     },
     "execution_count": 55,
     "metadata": {},
     "output_type": "execute_result"
    }
   ],
   "source": [
    "# Subtraction assignment (same as a = a - 3)\n",
    "a -= 3 \n",
    "a"
   ]
  },
  {
   "cell_type": "code",
   "execution_count": 56,
   "id": "e4c1521f",
   "metadata": {},
   "outputs": [
    {
     "data": {
      "text/plain": [
       "34"
      ]
     },
     "execution_count": 56,
     "metadata": {},
     "output_type": "execute_result"
    }
   ],
   "source": [
    "# Multiplication assignment (same as a = a * 2)\n",
    "a *= 2 \n",
    "a"
   ]
  },
  {
   "cell_type": "code",
   "execution_count": 57,
   "id": "eefe328f",
   "metadata": {},
   "outputs": [
    {
     "data": {
      "text/plain": [
       "8.5"
      ]
     },
     "execution_count": 57,
     "metadata": {},
     "output_type": "execute_result"
    }
   ],
   "source": [
    "# Division assignment (same as a = a / 4)\n",
    "a /= 4 \n",
    "a"
   ]
  },
  {
   "cell_type": "markdown",
   "id": "cac6f45e",
   "metadata": {},
   "source": [
    "### Python Tokens\n",
    "\n",
    "In Python, a token is the smallest unit or building block of a program. It could be a keyword, identifier, operator, literal value, or any other meaningful part of the code. Tokens are essential for the Python interpreter to understand and parse the code correctly."
   ]
  },
  {
   "cell_type": "markdown",
   "id": "2b79ac11",
   "metadata": {},
   "source": [
    "#### Keywords\n",
    "Keywords are reserved words in Python, and they have a specific meaning in the language. They cannot be used as variable names because Python treats them as special tokens."
   ]
  },
  {
   "cell_type": "code",
   "execution_count": 1,
   "id": "d3bad2a9",
   "metadata": {},
   "outputs": [
    {
     "data": {
      "text/plain": [
       "True"
      ]
     },
     "execution_count": 1,
     "metadata": {},
     "output_type": "execute_result"
    }
   ],
   "source": [
    "True"
   ]
  },
  {
   "cell_type": "code",
   "execution_count": null,
   "id": "f21b2d42",
   "metadata": {},
   "outputs": [],
   "source": [
    "def"
   ]
  },
  {
   "cell_type": "code",
   "execution_count": 2,
   "id": "ddb2d9c5",
   "metadata": {},
   "outputs": [
    {
     "ename": "SyntaxError",
     "evalue": "cannot assign to True (1946322174.py, line 1)",
     "output_type": "error",
     "traceback": [
      "\u001b[1;36m  Cell \u001b[1;32mIn [2], line 1\u001b[1;36m\u001b[0m\n\u001b[1;33m    True=\"a\"\u001b[0m\n\u001b[1;37m    ^\u001b[0m\n\u001b[1;31mSyntaxError\u001b[0m\u001b[1;31m:\u001b[0m cannot assign to True\n"
     ]
    }
   ],
   "source": [
    "True=\"a\""
   ]
  },
  {
   "cell_type": "code",
   "execution_count": null,
   "id": "b99b185e",
   "metadata": {},
   "outputs": [],
   "source": [
    "# Here, \"if\" and \"else\" are keywords.\n",
    "if x > 5:\n",
    "    print(\"x is greater than 5\")\n",
    "else:\n",
    "    print(\"x is not greater than 5\")\n"
   ]
  },
  {
   "cell_type": "markdown",
   "id": "b8a3e460",
   "metadata": {},
   "source": [
    "#### Identifiers\n",
    "Identifiers are names given to variables, functions, classes, or other objects in Python. They help us refer to specific parts of the code."
   ]
  },
  {
   "cell_type": "code",
   "execution_count": 11,
   "id": "9d893d55",
   "metadata": {},
   "outputs": [],
   "source": [
    "# \"count\" and \"result\" are identifiers.\n",
    "count = 10\n",
    "result = count * 2\n"
   ]
  },
  {
   "cell_type": "code",
   "execution_count": 12,
   "id": "ddcdbfa9",
   "metadata": {},
   "outputs": [],
   "source": [
    "Count=2"
   ]
  },
  {
   "cell_type": "code",
   "execution_count": 13,
   "id": "d5b952d1",
   "metadata": {},
   "outputs": [
    {
     "data": {
      "text/plain": [
       "10"
      ]
     },
     "execution_count": 13,
     "metadata": {},
     "output_type": "execute_result"
    }
   ],
   "source": [
    "count"
   ]
  },
  {
   "cell_type": "code",
   "execution_count": 10,
   "id": "f226c319",
   "metadata": {},
   "outputs": [
    {
     "data": {
      "text/plain": [
       "2"
      ]
     },
     "execution_count": 10,
     "metadata": {},
     "output_type": "execute_result"
    }
   ],
   "source": [
    "Count"
   ]
  },
  {
   "cell_type": "markdown",
   "id": "67f2476f",
   "metadata": {},
   "source": [
    "#### Literals\n",
    "Literals are constant values that appear directly in the code. They can be numbers, strings, or Boolean values."
   ]
  },
  {
   "cell_type": "code",
   "execution_count": 14,
   "id": "2dba9cde",
   "metadata": {},
   "outputs": [],
   "source": [
    "number_of_students = 5"
   ]
  },
  {
   "cell_type": "code",
   "execution_count": null,
   "id": "c1b0b34a",
   "metadata": {},
   "outputs": [],
   "source": [
    "pi = 3.14"
   ]
  },
  {
   "cell_type": "code",
   "execution_count": null,
   "id": "e0e1c390",
   "metadata": {},
   "outputs": [],
   "source": [
    "greeting = 'Hello'"
   ]
  },
  {
   "cell_type": "code",
   "execution_count": null,
   "id": "2f5ce926",
   "metadata": {},
   "outputs": [],
   "source": [
    "is_raining = True"
   ]
  },
  {
   "cell_type": "code",
   "execution_count": null,
   "id": "a7c4e486",
   "metadata": {},
   "outputs": [],
   "source": [
    "# \"5\" and \"3.14\" are numeric literals, and \"'Hello'\" is a string literal."
   ]
  },
  {
   "cell_type": "markdown",
   "id": "8e9349bc",
   "metadata": {},
   "source": [
    "### Python String"
   ]
  },
  {
   "cell_type": "markdown",
   "id": "d3ef1cef",
   "metadata": {},
   "source": [
    "#### Creating a string:"
   ]
  },
  {
   "cell_type": "code",
   "execution_count": 21,
   "id": "aad3fce0",
   "metadata": {},
   "outputs": [
    {
     "data": {
      "text/plain": [
       "'Shailja'"
      ]
     },
     "execution_count": 21,
     "metadata": {},
     "output_type": "execute_result"
    }
   ],
   "source": [
    "# Using single quotes\n",
    "\n",
    "name = 'Shailja'\n",
    "\n",
    "\n",
    "name"
   ]
  },
  {
   "cell_type": "code",
   "execution_count": 22,
   "id": "b5f4ec95",
   "metadata": {},
   "outputs": [
    {
     "data": {
      "text/plain": [
       "'Hello, how are you?'"
      ]
     },
     "execution_count": 22,
     "metadata": {},
     "output_type": "execute_result"
    }
   ],
   "source": [
    "# Using double quotes\n",
    "\n",
    "message = \"Hello, how are you?\"\n",
    "\n",
    "message"
   ]
  },
  {
   "cell_type": "code",
   "execution_count": 23,
   "id": "c22bf536",
   "metadata": {},
   "outputs": [
    {
     "data": {
      "text/plain": [
       "'\\n\\nThis is a multi-line\\nstring in Python.\\nIt can span across multiple lines.\\n\\n'"
      ]
     },
     "execution_count": 23,
     "metadata": {},
     "output_type": "execute_result"
    }
   ],
   "source": [
    "# Using triple quotes for multi-line strings\n",
    "\n",
    "multiline_string = '''\n",
    "\n",
    "This is a multi-line\n",
    "string in Python.\n",
    "It can span across multiple lines.\n",
    "\n",
    "'''\n",
    "\n",
    "multiline_string"
   ]
  },
  {
   "cell_type": "markdown",
   "id": "c2172b41",
   "metadata": {},
   "source": [
    "####                Extracting Individual Characters\n",
    "You can access individual characters in a string using indexing. The index starts from 0 for the first character, 1 for the second, and so on."
   ]
  },
  {
   "cell_type": "code",
   "execution_count": 28,
   "id": "1e706df0",
   "metadata": {},
   "outputs": [],
   "source": [
    "message = \"Hello\""
   ]
  },
  {
   "cell_type": "code",
   "execution_count": 29,
   "id": "a9c1d709",
   "metadata": {},
   "outputs": [
    {
     "data": {
      "text/plain": [
       "'H'"
      ]
     },
     "execution_count": 29,
     "metadata": {},
     "output_type": "execute_result"
    }
   ],
   "source": [
    "message[0]"
   ]
  },
  {
   "cell_type": "code",
   "execution_count": 30,
   "id": "7e2d2ce2",
   "metadata": {},
   "outputs": [
    {
     "data": {
      "text/plain": [
       "'o'"
      ]
     },
     "execution_count": 30,
     "metadata": {},
     "output_type": "execute_result"
    }
   ],
   "source": [
    "message[4]"
   ]
  },
  {
   "cell_type": "code",
   "execution_count": 32,
   "id": "640fb858",
   "metadata": {},
   "outputs": [
    {
     "data": {
      "text/plain": [
       "'o'"
      ]
     },
     "execution_count": 32,
     "metadata": {},
     "output_type": "execute_result"
    }
   ],
   "source": [
    "message[-1]"
   ]
  },
  {
   "cell_type": "markdown",
   "id": "525f6b2c",
   "metadata": {},
   "source": [
    "###### String(start:stop:step)"
   ]
  },
  {
   "cell_type": "code",
   "execution_count": 41,
   "id": "fab18c0d",
   "metadata": {},
   "outputs": [
    {
     "data": {
      "text/plain": [
       "'Hell'"
      ]
     },
     "execution_count": 41,
     "metadata": {},
     "output_type": "execute_result"
    }
   ],
   "source": [
    "message[0:4]"
   ]
  },
  {
   "cell_type": "code",
   "execution_count": 42,
   "id": "baaab23a",
   "metadata": {},
   "outputs": [
    {
     "data": {
      "text/plain": [
       "'Hl'"
      ]
     },
     "execution_count": 42,
     "metadata": {},
     "output_type": "execute_result"
    }
   ],
   "source": [
    "message[0:4:2]"
   ]
  },
  {
   "cell_type": "markdown",
   "id": "aa87c7b3",
   "metadata": {},
   "source": [
    "#### String Functions\n",
    "Strings have several built-in methods that allow you to perform various operations on them."
   ]
  },
  {
   "cell_type": "code",
   "execution_count": 46,
   "id": "a33c13ae",
   "metadata": {},
   "outputs": [],
   "source": [
    "message = \"Hello, how are you?\""
   ]
  },
  {
   "cell_type": "code",
   "execution_count": 50,
   "id": "edac12ac",
   "metadata": {},
   "outputs": [
    {
     "data": {
      "text/plain": [
       "19"
      ]
     },
     "execution_count": 50,
     "metadata": {},
     "output_type": "execute_result"
    }
   ],
   "source": [
    "len(message)"
   ]
  },
  {
   "cell_type": "code",
   "execution_count": 51,
   "id": "bebe7084",
   "metadata": {},
   "outputs": [
    {
     "data": {
      "text/plain": [
       "'HELLO, HOW ARE YOU?'"
      ]
     },
     "execution_count": 51,
     "metadata": {},
     "output_type": "execute_result"
    }
   ],
   "source": [
    "message.upper()"
   ]
  },
  {
   "cell_type": "code",
   "execution_count": 52,
   "id": "00508bf8",
   "metadata": {},
   "outputs": [
    {
     "data": {
      "text/plain": [
       "'hello, how are you?'"
      ]
     },
     "execution_count": 52,
     "metadata": {},
     "output_type": "execute_result"
    }
   ],
   "source": [
    "message.lower()"
   ]
  },
  {
   "cell_type": "code",
   "execution_count": 54,
   "id": "88f606fa",
   "metadata": {},
   "outputs": [
    {
     "data": {
      "text/plain": [
       "'zello, how are you?'"
      ]
     },
     "execution_count": 54,
     "metadata": {},
     "output_type": "execute_result"
    }
   ],
   "source": [
    "message.replace('H','z')"
   ]
  },
  {
   "cell_type": "code",
   "execution_count": 61,
   "id": "4e7fff46",
   "metadata": {},
   "outputs": [],
   "source": [
    "str1= \"Hello Hello folks\""
   ]
  },
  {
   "cell_type": "code",
   "execution_count": 62,
   "id": "79a1d73a",
   "metadata": {},
   "outputs": [
    {
     "data": {
      "text/plain": [
       "2"
      ]
     },
     "execution_count": 62,
     "metadata": {},
     "output_type": "execute_result"
    }
   ],
   "source": [
    "str1.count(\"Hello\")"
   ]
  },
  {
   "cell_type": "code",
   "execution_count": 63,
   "id": "65de4fac",
   "metadata": {},
   "outputs": [
    {
     "data": {
      "text/plain": [
       "12"
      ]
     },
     "execution_count": 63,
     "metadata": {},
     "output_type": "execute_result"
    }
   ],
   "source": [
    "str1.find(\"folks\")"
   ]
  },
  {
   "cell_type": "code",
   "execution_count": 60,
   "id": "72f2a8ba",
   "metadata": {},
   "outputs": [
    {
     "data": {
      "text/plain": [
       "['Hello,', 'how', 'are', 'you?']"
      ]
     },
     "execution_count": 60,
     "metadata": {},
     "output_type": "execute_result"
    }
   ],
   "source": [
    "# Splitting the string into a list of words\n",
    "\n",
    "message.split()"
   ]
  }
 ],
 "metadata": {
  "kernelspec": {
   "display_name": "Python 3 (ipykernel)",
   "language": "python",
   "name": "python3"
  },
  "language_info": {
   "codemirror_mode": {
    "name": "ipython",
    "version": 3
   },
   "file_extension": ".py",
   "mimetype": "text/x-python",
   "name": "python",
   "nbconvert_exporter": "python",
   "pygments_lexer": "ipython3",
   "version": "3.10.9"
  }
 },
 "nbformat": 4,
 "nbformat_minor": 5
}
