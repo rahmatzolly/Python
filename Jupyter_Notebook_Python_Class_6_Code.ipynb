{
 "cells": [
  {
   "cell_type": "markdown",
   "id": "47613ee9-702a-4891-9337-0a2024343623",
   "metadata": {},
   "source": [
    "### Searching and Sorting\n",
    "\n",
    "Searching:\n",
    "\n",
    "*  list.index(element): Returns the index of the first occurrence of element in the list.\n",
    "*  element in list: Returns True if element is in the list, otherwise False.\n",
    "\n",
    "Sorting:\n",
    "\n",
    "* sorted(iterable): Returns a sorted list from the elements in iterable.\n",
    "* list.sort(): Sorts the elements of a list in place"
   ]
  },
  {
   "cell_type": "code",
   "execution_count": 2,
   "id": "470f4bde-4297-46aa-9031-6056c8566456",
   "metadata": {},
   "outputs": [
    {
     "name": "stdout",
     "output_type": "stream",
     "text": [
      "Index of 7: 2\n"
     ]
    }
   ],
   "source": [
    "numbers = [4, 2, 7, 1, 9, 5]\n",
    "\n",
    "# Searching\n",
    "index = numbers.index(7)\n",
    "print(\"Index of 7:\", index)"
   ]
  },
  {
   "cell_type": "code",
   "execution_count": 3,
   "id": "cadd29ea-efee-460f-9734-1c6d45ecc818",
   "metadata": {},
   "outputs": [
    {
     "name": "stdout",
     "output_type": "stream",
     "text": [
      "5 is in the list\n"
     ]
    }
   ],
   "source": [
    "# Searching\n",
    "if 5 in numbers:\n",
    "    print(\"5 is in the list\")"
   ]
  },
  {
   "cell_type": "code",
   "execution_count": 5,
   "id": "58d63fd9-b5d3-48fa-9b00-872a42a8cff2",
   "metadata": {},
   "outputs": [
    {
     "name": "stdout",
     "output_type": "stream",
     "text": [
      "Sorted numbers: [1, 2, 4, 5, 7, 9]\n"
     ]
    }
   ],
   "source": [
    "# Sorting\n",
    "sorted_numbers = sorted(numbers)\n",
    "print(\"Sorted numbers:\", sorted_numbers)"
   ]
  },
  {
   "cell_type": "code",
   "execution_count": 6,
   "id": "f8cdb958-fccf-49fa-8749-291792081ecf",
   "metadata": {},
   "outputs": [
    {
     "name": "stdout",
     "output_type": "stream",
     "text": [
      "Sorted list: [1, 2, 4, 5, 7, 9]\n"
     ]
    }
   ],
   "source": [
    "# Sorting\n",
    "numbers.sort()  # Sorts the list in place\n",
    "print(\"Sorted list:\", numbers)"
   ]
  },
  {
   "cell_type": "markdown",
   "id": "01989459-8d51-42e2-9dca-3d6c2a7f30bd",
   "metadata": {},
   "source": [
    "You can sort in descending order by providing the reverse parameter to the sorted() function or using the list.sort() method. Here's how you can do it:"
   ]
  },
  {
   "cell_type": "code",
   "execution_count": 7,
   "id": "d389b460-70b0-4534-b260-95de5feb8164",
   "metadata": {},
   "outputs": [
    {
     "name": "stdout",
     "output_type": "stream",
     "text": [
      "Descending order: [9, 7, 5, 4, 2, 1]\n"
     ]
    }
   ],
   "source": [
    "numbers = [4, 2, 7, 1, 9, 5]\n",
    "\n",
    "sorted_descending = sorted(numbers, reverse=True)\n",
    "print(\"Descending order:\", sorted_descending)"
   ]
  },
  {
   "cell_type": "code",
   "execution_count": 8,
   "id": "7dcaf8c4-ae65-4025-b9d9-6fca8078628a",
   "metadata": {},
   "outputs": [
    {
     "name": "stdout",
     "output_type": "stream",
     "text": [
      "Descending order (in place): [9, 7, 5, 4, 2, 1]\n"
     ]
    }
   ],
   "source": [
    "numbers = [4, 2, 7, 1, 9, 5]\n",
    "\n",
    "numbers.sort(reverse=True)\n",
    "print(\"Descending order (in place):\", numbers)"
   ]
  },
  {
   "cell_type": "markdown",
   "id": "3d8be4bb-5aa8-4e6b-8845-7118d6a93af2",
   "metadata": {},
   "source": [
    "#### Input() in Python"
   ]
  },
  {
   "cell_type": "markdown",
   "id": "b943f2fc-e050-43bf-9cb3-74458c9b7522",
   "metadata": {},
   "source": [
    "The input() function is used to prompt the user for input. It allows you to interactively gather data from the user during the execution of a program. When input() is called, the program will pause and wait for the user to type in some text, followed by pressing the \"Enter\" key.\n",
    "\n",
    "Here's a basic example of how input() works:\n"
   ]
  },
  {
   "cell_type": "code",
   "execution_count": null,
   "id": "d0b4a071-e398-4a3e-bccf-41e027915154",
   "metadata": {},
   "outputs": [],
   "source": [
    "name = input(\"Please enter your name: \")\n",
    "print(\"Hello, \" + name + \"! Welcome to the program.\")"
   ]
  },
  {
   "cell_type": "markdown",
   "id": "59455fcd-4cd3-4726-97c2-c5450da26fa8",
   "metadata": {},
   "source": [
    "In this example, the program prompts the user to enter their name using the message provided as an argument to input(). The user types their name and presses \"Enter\". The entered text is then assigned to the variable name, and the program continues executing, printing a personalized welcome message.\n",
    "\n",
    "Keep in mind a couple of important things about input():\n",
    "\n",
    "* The input provided by the user is always treated as a string, even if the user enters a number. You may need to convert the input to the appropriate data type using functions like int() or float().\n",
    "\n",
    "* The input() function will include any text the user enters, including spaces. You can use string manipulation functions like strip() to remove leading or trailing spaces if needed.\n",
    "\n",
    "Here's an example demonstrating the first point:"
   ]
  },
  {
   "cell_type": "code",
   "execution_count": 9,
   "id": "fa66f8f3-2516-4f4b-a91f-477e008c829e",
   "metadata": {},
   "outputs": [
    {
     "name": "stdout",
     "output_type": "stream",
     "text": [
      "Please enter your age:  24\n"
     ]
    },
    {
     "name": "stdout",
     "output_type": "stream",
     "text": [
      "You have 76 years until you turn 100!\n"
     ]
    }
   ],
   "source": [
    "age = input(\"Please enter your age: \")\n",
    "age = int(age)  # Convert the input string to an integer\n",
    "years_until_100 = 100 - age\n",
    "print(\"You have\", years_until_100, \"years until you turn 100!\")"
   ]
  },
  {
   "cell_type": "markdown",
   "id": "4a74c179-5fff-4fda-a3f4-6545364d1836",
   "metadata": {},
   "source": [
    "Remember to handle user input carefully, as unexpected input can lead to errors. You might want to consider using error handling mechanisms like try and except to handle cases where the user enters input that cannot be converted to the expected data type."
   ]
  },
  {
   "cell_type": "markdown",
   "id": "d5472a04-64d1-48d9-bd9f-8dfd944fdb05",
   "metadata": {},
   "source": [
    "#### String Formatting in Python"
   ]
  },
  {
   "cell_type": "markdown",
   "id": "f2496946-3874-4ee2-a654-3b820886b3a1",
   "metadata": {},
   "source": [
    "String formatting in Python allows you to create strings by embedding variables or values within them. Python provides several ways to format strings, and I'll introduce you to some common methods:\n",
    "\n",
    "* String Concatenation: You can concatenate strings and variables using the + operator:"
   ]
  },
  {
   "cell_type": "code",
   "execution_count": 11,
   "id": "14c4120b-973c-41cc-b9e5-9dbcacfc6c4c",
   "metadata": {},
   "outputs": [
    {
     "data": {
      "text/plain": [
       "'My name is Alice and I am 30 years old.'"
      ]
     },
     "execution_count": 11,
     "metadata": {},
     "output_type": "execute_result"
    }
   ],
   "source": [
    "name = \"Alice\"\n",
    "age = 30\n",
    "message = \"My name is \" + name + \" and I am \" + str(age) + \" years old.\"\n",
    "message"
   ]
  },
  {
   "cell_type": "markdown",
   "id": "e75c6d89-e9aa-4381-8a50-e4e75e3e0ec9",
   "metadata": {},
   "source": [
    "* String Interpolation (f-strings, Python 3.6+):\n",
    "F-strings provide a concise way to embed expressions inside string literals, using curly braces {}:"
   ]
  },
  {
   "cell_type": "code",
   "execution_count": 12,
   "id": "da72624a-5307-475d-b685-8523cb560a80",
   "metadata": {},
   "outputs": [
    {
     "data": {
      "text/plain": [
       "'My name is Bob and I am 25 years old.'"
      ]
     },
     "execution_count": 12,
     "metadata": {},
     "output_type": "execute_result"
    }
   ],
   "source": [
    "name = \"Bob\"\n",
    "age = 25\n",
    "message = f\"My name is {name} and I am {age} years old.\"\n",
    "message"
   ]
  },
  {
   "cell_type": "markdown",
   "id": "71a46db4-5956-403c-a1a2-32b47fb0b284",
   "metadata": {},
   "source": [
    "* str.format() Method:\n",
    "You can use the str.format() method to insert values into placeholders within a string:"
   ]
  },
  {
   "cell_type": "code",
   "execution_count": 14,
   "id": "113390e9-e4e6-4796-b841-ef94d99aa0b5",
   "metadata": {},
   "outputs": [
    {
     "data": {
      "text/plain": [
       "'My name is Charlie and I am 40 years old.'"
      ]
     },
     "execution_count": 14,
     "metadata": {},
     "output_type": "execute_result"
    }
   ],
   "source": [
    "name = \"Charlie\"\n",
    "age = 40\n",
    "message = \"My name is {} and I am {} years old.\".format(name, age)\n",
    "message"
   ]
  },
  {
   "cell_type": "markdown",
   "id": "797c388b-6418-402e-b36f-c59a0f48dc78",
   "metadata": {},
   "source": [
    "* Percentage Formatting (Older method):\n",
    "This method uses the % operator to format strings. It's less preferred than f-strings and str.format():"
   ]
  },
  {
   "cell_type": "code",
   "execution_count": 16,
   "id": "28e488ed-4ee5-46b5-b855-a6eef5601bd1",
   "metadata": {},
   "outputs": [
    {
     "data": {
      "text/plain": [
       "'My name is David and I am 35 years old.'"
      ]
     },
     "execution_count": 16,
     "metadata": {},
     "output_type": "execute_result"
    }
   ],
   "source": [
    "name = \"David\"\n",
    "age = 35\n",
    "message = \"My name is %s and I am %d years old.\" % (name, age)\n",
    "message"
   ]
  },
  {
   "cell_type": "markdown",
   "id": "da292600-fbd4-443f-99f9-bbe4e1a148f3",
   "metadata": {},
   "source": [
    "* Template Strings:\n",
    "Python also offers a module called string.Template for more advanced string formatting, which can be useful for certain scenarios:"
   ]
  },
  {
   "cell_type": "code",
   "execution_count": 17,
   "id": "1d64531c-5d22-4010-9311-55c7adbdbc66",
   "metadata": {},
   "outputs": [
    {
     "data": {
      "text/plain": [
       "'My name is Eve and I am 28 years old.'"
      ]
     },
     "execution_count": 17,
     "metadata": {},
     "output_type": "execute_result"
    }
   ],
   "source": [
    "from string import Template\n",
    "name = \"Eve\"\n",
    "age = 28\n",
    "template = Template(\"My name is $name and I am $age years old.\")\n",
    "message = template.substitute(name=name, age=age)\n",
    "message"
   ]
  },
  {
   "cell_type": "markdown",
   "id": "07f3aaa4-ab89-41fd-89ff-1590ed03dc7c",
   "metadata": {},
   "source": [
    "F-strings and str.format() are generally recommended due to their readability and flexibility. They allow you to easily format strings while including variables and expressions. Always consider using these modern methods for string formatting in Python."
   ]
  },
  {
   "cell_type": "markdown",
   "id": "adad232f-5864-4510-bc88-8a6881992790",
   "metadata": {},
   "source": [
    "#### int32 int64, float64"
   ]
  },
  {
   "cell_type": "markdown",
   "id": "92ccf253-7f32-4ee7-8e39-18fbf6283439",
   "metadata": {},
   "source": [
    "The terms \"int32,\" \"int64,\" and \"float64\" refer to specific data types with different sizes and capabilities\n",
    "\n",
    "* int32 (Integer 32-bit):\n",
    "\n",
    "Represents signed integers (whole numbers).\n",
    "Takes up 32 bits of memory (4 bytes).\n",
    "Can store values in the range from approximately -2 billion to +2 billion.\n",
    "Useful for conserving memory when dealing with large arrays of integers that fit within this range.\n",
    "\n",
    "* int64 (Integer 64-bit):\n",
    "\n",
    "Represents signed integers (whole numbers).\n",
    "Takes up 64 bits of memory (8 bytes).\n",
    "Can store much larger values than int32, with a range from approximately -9 quintillion to +9 quintillion.\n",
    "Useful when you need to work with larger integer values.\n",
    "\n",
    "* float64 (Floating-Point 64-bit):\n",
    "\n",
    "Represents floating-point numbers (decimal numbers) with double precision.\n",
    "Takes up 64 bits of memory (8 bytes).\n",
    "Provides a wider range and higher precision compared to float32.\n",
    "Suitable for scientific and engineering calculations that require higher precision.\n",
    "In Python, the built-in int and float types don't have fixed sizes like int32, int64, or float64 because Python dynamically adjusts the memory size based on the value. However, you can achieve similar functionality and fixed-size behavior using libraries like numpy.\n",
    "\n",
    "Here's an example demonstrating the differences using numpy:"
   ]
  },
  {
   "cell_type": "code",
   "execution_count": 18,
   "id": "9da5a174-8fba-4ae7-854d-5cfb7f1d476f",
   "metadata": {},
   "outputs": [
    {
     "name": "stdout",
     "output_type": "stream",
     "text": [
      "int32 array: [1 2 3]\n",
      "int64 array: [1 2 3]\n",
      "float64 array: [1.1 2.2 3.3]\n"
     ]
    }
   ],
   "source": [
    "import numpy as np\n",
    "\n",
    "# int32 and int64\n",
    "int32_array = np.array([1, 2, 3], dtype=np.int32)\n",
    "int64_array = np.array([1, 2, 3], dtype=np.int64)\n",
    "\n",
    "# float64\n",
    "float64_array = np.array([1.1, 2.2, 3.3], dtype=np.float64)\n",
    "\n",
    "print(\"int32 array:\", int32_array)\n",
    "print(\"int64 array:\", int64_array)\n",
    "print(\"float64 array:\", float64_array)"
   ]
  },
  {
   "cell_type": "code",
   "execution_count": 20,
   "id": "7581e79d-8994-445b-95be-aa101321f287",
   "metadata": {},
   "outputs": [
    {
     "name": "stdout",
     "output_type": "stream",
     "text": [
      "[ True False  True]\n",
      "bool\n"
     ]
    }
   ],
   "source": [
    "import numpy as np\n",
    "\n",
    "arr = np.array([1, 0, 3])\n",
    "\n",
    "newarr = arr.astype(bool)\n",
    "\n",
    "print(newarr)\n",
    "print(newarr.dtype)"
   ]
  },
  {
   "cell_type": "markdown",
   "id": "c848d589-f721-40f6-95b1-05e9f0c20c65",
   "metadata": {},
   "source": [
    "#### Inheritance\n",
    "\n",
    "Inheritance is a fundamental concept in object-oriented programming where a new class (subclass or derived class) can inherit properties and behaviors from an existing class (base class or parent class). It allows you to create a hierarchy of classes with shared attributes and methods.\n",
    "\n",
    "Let's consider a real-life example of different types of vehicles:"
   ]
  },
  {
   "cell_type": "code",
   "execution_count": 21,
   "id": "9d9ca4f6-db63-402b-81eb-09d72860a6cd",
   "metadata": {},
   "outputs": [
    {
     "name": "stdout",
     "output_type": "stream",
     "text": [
      "This is a Toyota Camry.\n",
      "Car is driving.\n",
      "This is a Harley-Davidson Sportster.\n",
      "Motorcycle is riding.\n"
     ]
    }
   ],
   "source": [
    "class Vehicle:\n",
    "    def __init__(self, make, model):\n",
    "        self.make = make\n",
    "        self.model = model\n",
    "\n",
    "    def display_info(self):\n",
    "        return f\"This is a {self.make} {self.model}.\"\n",
    "\n",
    "class Car(Vehicle):\n",
    "    def drive(self):\n",
    "        return \"Car is driving.\"\n",
    "\n",
    "class Motorcycle(Vehicle):\n",
    "    def ride(self):\n",
    "        return \"Motorcycle is riding.\"\n",
    "\n",
    "car = Car(\"Toyota\", \"Camry\")\n",
    "print(car.display_info())  # Output: This is a Toyota Camry.\n",
    "print(car.drive())         # Output: Car is driving.\n",
    "\n",
    "motorcycle = Motorcycle(\"Harley-Davidson\", \"Sportster\")\n",
    "print(motorcycle.display_info())  # Output: This is a Harley-Davidson Sportster.\n",
    "print(motorcycle.ride())         # Output: Motorcycle is riding.\n"
   ]
  },
  {
   "cell_type": "markdown",
   "id": "ab47d931-d40b-4908-bd00-fa7cdb0aed36",
   "metadata": {},
   "source": [
    "In this example, the Car and Motorcycle classes inherit the attributes and method from the Vehicle class. They also have their own unique methods (drive() and ride()) in addition to the common display_info() method.\n",
    "\n",
    "##### Access Modifiers (Public, Private, Protected):\n",
    "\n",
    "Access modifiers control the visibility of class members (attributes and methods) within and outside the class. In Python, there are no strict access modifiers like in some other languages, but you can achieve similar behavior using naming conventions.\n",
    "\n",
    "* Public (public):\n",
    "\n",
    "Members are accessible from anywhere.\n",
    "No special naming convention is used.\n",
    "\n",
    "\n",
    "* Private (private):\n",
    "\n",
    "Members are intended to be used within the class only.\n",
    "Convention: Prefix the member name with an underscore (_).\n",
    "\n",
    "\n",
    "* Protected (protected):\n",
    "\n",
    "Members are intended to be used within the class and its subclasses.\n",
    "Convention: Prefix the member name with two underscores (__)."
   ]
  },
  {
   "cell_type": "code",
   "execution_count": 22,
   "id": "454a0960-3dbf-4676-bebf-f86cfa06689d",
   "metadata": {},
   "outputs": [
    {
     "name": "stdout",
     "output_type": "stream",
     "text": [
      "John\n",
      "30\n",
      "0\n"
     ]
    }
   ],
   "source": [
    "class Person:\n",
    "    def __init__(self, name, age):\n",
    "        self.name = name         # Public\n",
    "        self._age = age          # Protected\n",
    "        self.__bank_balance = 0  # Private\n",
    "\n",
    "    def show_balance(self):\n",
    "        return self.__bank_balance\n",
    "\n",
    "class Employee(Person):\n",
    "    def show_age(self):\n",
    "        return self._age\n",
    "\n",
    "employee = Employee(\"John\", 30)\n",
    "\n",
    "print(employee.name)      # Public attribute\n",
    "print(employee.show_age()) # Protected attribute\n",
    "# print(employee.__bank_balance)  # This will cause an AttributeError\n",
    "print(employee.show_balance())   # Private attribute via a method\n"
   ]
  },
  {
   "cell_type": "markdown",
   "id": "176e9e0b-6750-43a6-bab1-0ebd2eacfbfe",
   "metadata": {},
   "source": [
    "In this example, the Person class has attributes with different access levels. The Employee class, which inherits from Person, can access the protected attribute _age, but cannot directly access the private attribute __bank_balance. It can, however, access the private attribute using a method (show_balance())."
   ]
  },
  {
   "cell_type": "markdown",
   "id": "9a98fb45-78ed-4cde-8d0e-2538cd4ea849",
   "metadata": {},
   "source": [
    "#### tranform() in pandas\n",
    "\n",
    "In pandas, the transform() function is used to apply a function to each group of a DataFrame created by the groupby() operation. The result of the transform() function is a new DataFrame or Series with the same shape as the original DataFrame, but with the values computed based on the group-wise operation.\r\n",
    "\r\n",
    "The transform() function is particularly useful when you want to broadcast the results of the group-wise operation back to the original DataFrame, maintaining the original shape and alignment of the data.\r\n",
    "\r\n",
    "Here's a simple example to demonstrate how transform() works:"
   ]
  },
  {
   "cell_type": "code",
   "execution_count": 1,
   "id": "4101dc77-7db4-4524-a697-f8d223dd0b62",
   "metadata": {},
   "outputs": [
    {
     "name": "stdout",
     "output_type": "stream",
     "text": [
      "  Category  Value  Mean_Value\n",
      "0        A     10   16.666667\n",
      "1        A     15   16.666667\n",
      "2        B     20   28.333333\n",
      "3        B     30   28.333333\n",
      "4        A     25   16.666667\n",
      "5        B     35   28.333333\n"
     ]
    }
   ],
   "source": [
    "import pandas as pd\n",
    "\n",
    "# Create a sample DataFrame\n",
    "data = {\n",
    "    'Category': ['A', 'A', 'B', 'B', 'A', 'B'],\n",
    "    'Value': [10, 15, 20, 30, 25, 35]\n",
    "}\n",
    "\n",
    "df = pd.DataFrame(data)\n",
    "\n",
    "# Group by 'Category' and calculate the mean value for each group\n",
    "grouped_mean = df.groupby('Category')['Value'].transform('mean')\n",
    "\n",
    "# Add the calculated mean as a new column\n",
    "df['Mean_Value'] = grouped_mean\n",
    "\n",
    "print(df)\n"
   ]
  },
  {
   "cell_type": "markdown",
   "id": "4a81c796-dc57-44b4-8a1f-623a9910be45",
   "metadata": {},
   "source": [
    "In this example, the transform() function calculates the mean value for each group defined by the 'Category' column. The calculated mean values are then broadcasted to the original DataFrame based on the alignment of the groups, and a new column 'Mean_Value' is added.\r\n",
    "\r\n",
    "transform() can be used with various aggregation functions (e.g., 'mean', 'sum', 'count', etc.) or with custom functions. It's a powerful tool for applying group-wise operations while maintaining the original structure of the DataFrame."
   ]
  },
  {
   "cell_type": "markdown",
   "id": "58bc1f60-78d0-4a71-9181-95609cdf3026",
   "metadata": {},
   "source": [
    "#### as_index() in Pandas\n",
    "\r\n",
    "In pandas, the as_index parameter is used in conjunction with the groupby() function to control whether the grouped columns should become the index of the resulting DataFrame or not.\r\n",
    "\r\n",
    "When as_index is set to True (which is the default), the grouped columns become the index of the resulting DataFrame. This is useful when you want to perform further operations on the grouped data, as it allows for more efficient indexing and selection.\r\n",
    "\r\n",
    "When as_index is set to False, the grouped columns are not set as the index, and the result will have a default integer index. This can be useful when you want to keep the original structure of the DataFrame intact and avoid turning the grouped columns into an index.\r\n",
    "\r\n",
    "Here's an example to illustrate the difference:"
   ]
  },
  {
   "cell_type": "code",
   "execution_count": 2,
   "id": "26319ca1-383a-483c-856e-e1026d2315e3",
   "metadata": {},
   "outputs": [
    {
     "name": "stdout",
     "output_type": "stream",
     "text": [
      "Grouped with as_index=True:\n",
      "Category\n",
      "A    50\n",
      "B    85\n",
      "Name: Value, dtype: int64\n",
      "\n",
      "Grouped with as_index=False:\n",
      "  Category  Value\n",
      "0        A     50\n",
      "1        B     85\n"
     ]
    }
   ],
   "source": [
    "import pandas as pd\n",
    "\n",
    "# Create a sample DataFrame\n",
    "data = {\n",
    "    'Category': ['A', 'A', 'B', 'B', 'A', 'B'],\n",
    "    'Value': [10, 15, 20, 30, 25, 35]\n",
    "}\n",
    "\n",
    "df = pd.DataFrame(data)\n",
    "\n",
    "# Group by 'Category' and calculate the sum, with as_index set to True\n",
    "grouped_result_true = df.groupby('Category', as_index=True)['Value'].sum()\n",
    "print(\"Grouped with as_index=True:\")\n",
    "print(grouped_result_true)\n",
    "\n",
    "# Group by 'Category' and calculate the sum, with as_index set to False\n",
    "grouped_result_false = df.groupby('Category', as_index=False)['Value'].sum()\n",
    "print(\"\\nGrouped with as_index=False:\")\n",
    "print(grouped_result_false)\n"
   ]
  },
  {
   "cell_type": "markdown",
   "id": "52d219ef-d4a4-404e-8abd-39609563a520",
   "metadata": {},
   "source": [
    "In this example, when as_index is set to True, the resulting grouped DataFrame has the 'Category' column as the index. When as_index is set to False, the 'Category' column is not used as the index, and the result has a default integer index.\r\n",
    "\r\n",
    "Using as_index=False can be helpful when you want to retain a more traditional DataFrame structure after grouping, especially if you intend to continue working with the grouped data in a tabular format."
   ]
  }
 ],
 "metadata": {
  "kernelspec": {
   "display_name": "Python 3 (ipykernel)",
   "language": "python",
   "name": "python3"
  },
  "language_info": {
   "codemirror_mode": {
    "name": "ipython",
    "version": 3
   },
   "file_extension": ".py",
   "mimetype": "text/x-python",
   "name": "python",
   "nbconvert_exporter": "python",
   "pygments_lexer": "ipython3",
   "version": "3.10.11"
  }
 },
 "nbformat": 4,
 "nbformat_minor": 5
}
