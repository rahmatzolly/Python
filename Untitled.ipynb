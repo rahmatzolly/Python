{
 "cells": [
  {
   "cell_type": "code",
   "execution_count": 17,
   "id": "3203e277",
   "metadata": {},
   "outputs": [
    {
     "name": "stdout",
     "output_type": "stream",
     "text": [
      "put the number : 773\n",
      "yeah!!, the number is prime \n"
     ]
    }
   ],
   "source": [
    "#prime number\n",
    "number = int(input(\"put the number : \"))\n",
    "# number = 12\n",
    "if number > 1:\n",
    "    for i in range(2,number):\n",
    "        if (number % i == 0):\n",
    "            print(number, \",Oops!!, Sorry this is not prime\")\n",
    "            print(i, \"times\", number // i, \"is\" ,number ,\"and the remainder is:\",number%i)\n",
    "            #print(i, \"times\", number//i, \"is\" \"and the remainder is: \" number%i )\n",
    "            break\n",
    "    else:\n",
    "            print(\"yeah!!, the number is prime \")\n",
    "\n",
    "\n"
   ]
  },
  {
   "cell_type": "code",
   "execution_count": 13,
   "id": "97936508",
   "metadata": {},
   "outputs": [
    {
     "name": "stdout",
     "output_type": "stream",
     "text": [
      "output is: 3628800\n"
     ]
    }
   ],
   "source": [
    "number = 10\n",
    "factorial = 1\n",
    "if number < 0:\n",
    "    print(\"not allowed\")\n",
    "elif number == 0:\n",
    "    print(\"result is 1\")\n",
    "else:\n",
    "    for i in range(1, number + 1):\n",
    "        factorial = factorial * i\n",
    "    print(\"output is:\", factorial)"
   ]
  },
  {
   "cell_type": "code",
   "execution_count": 1,
   "id": "63ec996c",
   "metadata": {},
   "outputs": [
    {
     "name": "stdout",
     "output_type": "stream",
     "text": [
      "enter rating b/w 1-5 : 4\n",
      "we almost missed the perfect rating from you\n"
     ]
    }
   ],
   "source": [
    "rating = int(input(\"enter rating b/w 1-5 : \"))\n",
    "if rating == 1:\n",
    "    print(\"sorry to hear about your experience\")\n",
    "elif rating == 2:\n",
    "    print(\"we are trying to get better\")\n",
    "elif rating == 3:\n",
    "    print(\"thanks\")\n",
    "elif rating == 4:\n",
    "    print(\"we almost missed the perfect rating from you\")\n",
    "elif rating == 5:\n",
    "    print(\"happy to know that ypou loved our services\")\n",
    "else:\n",
    "    print(\"wrong input added\")"
   ]
  },
  {
   "cell_type": "code",
   "execution_count": 35,
   "id": "4ec3f2ca",
   "metadata": {},
   "outputs": [
    {
     "name": "stdout",
     "output_type": "stream",
     "text": [
      "907\n",
      "911\n",
      "919\n",
      "929\n",
      "937\n",
      "941\n",
      "947\n",
      "953\n",
      "967\n",
      "971\n",
      "977\n",
      "983\n",
      "991\n",
      "997\n"
     ]
    }
   ],
   "source": [
    "lower_range = 900\n",
    "upper_range = 1000\n",
    "for number in range(lower_range, upper_range+1):\n",
    "    if number > 1:\n",
    "        for i in range(2,number):\n",
    "            if (number % i == 0):\n",
    "                break\n",
    "        else:\n",
    "            print(number)"
   ]
  },
  {
   "cell_type": "code",
   "execution_count": 11,
   "id": "48457c93",
   "metadata": {},
   "outputs": [
    {
     "name": "stdout",
     "output_type": "stream",
     "text": [
      " a : 6\n",
      "enter operator (+,-,*,/,%): +\n",
      " b : 7\n",
      "13\n"
     ]
    }
   ],
   "source": [
    "    # Mini Calculator\n",
    "a = input(\" a : \")\n",
    "operator = input(\"enter operator (+,-,*,/,%): \")\n",
    "b = input(\" b : \")\n",
    "a = int(a)\n",
    "b = int(b)\n",
    "if operator == \"+\" :\n",
    "      print(a + b)\n",
    "    elif operator == \"-\":\n",
    "      print(a - b)\n",
    "    elif operator == \"*\":\n",
    "      print(a * b)\n",
    "    elif operator == \"/\":\n",
    "      print(a / b)\n",
    "    elif operator == \"%\":\n",
    "      print(a % b)\n",
    "    else:\n",
    "      print(\"error\")"
   ]
  },
  {
   "cell_type": "code",
   "execution_count": 23,
   "id": "1e38bdb8",
   "metadata": {},
   "outputs": [],
   "source": [
    "a = set('abracadabra')"
   ]
  },
  {
   "cell_type": "code",
   "execution_count": 24,
   "id": "f0a6ff69",
   "metadata": {},
   "outputs": [
    {
     "name": "stdout",
     "output_type": "stream",
     "text": [
      "{'b', 'r', 'd', 'a', 'c'}\n"
     ]
    }
   ],
   "source": [
    "print(a)"
   ]
  },
  {
   "cell_type": "code",
   "execution_count": 25,
   "id": "75e84f7d",
   "metadata": {},
   "outputs": [],
   "source": [
    "b = set('alacazam')"
   ]
  },
  {
   "cell_type": "code",
   "execution_count": 26,
   "id": "2463c5e6",
   "metadata": {},
   "outputs": [
    {
     "name": "stdout",
     "output_type": "stream",
     "text": [
      "{'l', 'm', 'z', 'a', 'c'}\n"
     ]
    }
   ],
   "source": [
    "print(b)"
   ]
  },
  {
   "cell_type": "code",
   "execution_count": 27,
   "id": "ad2d4c9f",
   "metadata": {},
   "outputs": [
    {
     "name": "stdout",
     "output_type": "stream",
     "text": [
      "{'r', 'd', 'b'}\n"
     ]
    }
   ],
   "source": [
    "print(a-b) #letter in a but not in b"
   ]
  },
  {
   "cell_type": "code",
   "execution_count": 29,
   "id": "e652f72b",
   "metadata": {},
   "outputs": [
    {
     "name": "stdout",
     "output_type": "stream",
     "text": [
      "{'l', 'b', 'm', 'z', 'a', 'd', 'r', 'c'}\n"
     ]
    }
   ],
   "source": [
    "print(a|b) #letter in a or b or both without duplicate data"
   ]
  },
  {
   "cell_type": "code",
   "execution_count": 31,
   "id": "112e58c1",
   "metadata": {},
   "outputs": [
    {
     "name": "stdout",
     "output_type": "stream",
     "text": [
      "{'a', 'c'}\n"
     ]
    }
   ],
   "source": [
    "print(a&b) #letter in a and b"
   ]
  },
  {
   "cell_type": "code",
   "execution_count": 32,
   "id": "6b62b779",
   "metadata": {},
   "outputs": [
    {
     "name": "stdout",
     "output_type": "stream",
     "text": [
      "{'r', 'l', 'd', 'b', 'm', 'z'}\n"
     ]
    }
   ],
   "source": [
    "print(a^b) # letters in a and b both without any common data"
   ]
  },
  {
   "cell_type": "code",
   "execution_count": null,
   "id": "538ab169",
   "metadata": {},
   "outputs": [],
   "source": []
  }
 ],
 "metadata": {
  "kernelspec": {
   "display_name": "Python 3 (ipykernel)",
   "language": "python",
   "name": "python3"
  },
  "language_info": {
   "codemirror_mode": {
    "name": "ipython",
    "version": 3
   },
   "file_extension": ".py",
   "mimetype": "text/x-python",
   "name": "python",
   "nbconvert_exporter": "python",
   "pygments_lexer": "ipython3",
   "version": "3.10.9"
  }
 },
 "nbformat": 4,
 "nbformat_minor": 5
}
