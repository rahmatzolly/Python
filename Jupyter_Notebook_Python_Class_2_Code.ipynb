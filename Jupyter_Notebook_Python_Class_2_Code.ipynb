{
 "cells": [
  {
   "cell_type": "markdown",
   "id": "912a1413",
   "metadata": {},
   "source": [
    "##### Reversing a Python String\n",
    "* With Accessing Characters from a string, we can also reverse them. \n",
    "* We can Reverse a string by writing [::-1] and the string will be reversed.\n",
    "\n",
    "This code reverses the string str2 and prints the result. Let's break it down step by step:\n",
    "\n",
    "\n",
    "str2[::-1]: In Python, when you use slicing with a negative step (-1 in this case), it reverses the sequence (string, list, etc.). So, str2[::-1] creates a new string that is a reversed version of str2.\n",
    "\n",
    "Let's see how the reversal works:\n",
    "\n",
    "The syntax for slicing in Python is start:stop:step.\n",
    "If start is not specified, it defaults to the beginning of the sequence.\n",
    "If stop is not specified, it defaults to the end of the sequence.\n",
    "If step is not specified, it defaults to 1.\n",
    "In our case, start and stop are not specified, which means the whole string will be considered. The step is -1, which means it will iterate over the string in reverse order, effectively reversing the string.\n",
    "\n",
    "Here's how the slicing works kefile\n",
    "Copy code\n",
    "str2 = \"growdataskills\"\n",
    "str2[::-1]\n",
    "No start and stop specified, so it considers the entire string: \"growdataskills\"\n",
    "\n",
    "step is -1, so it iterates in reverse order: \"slliskatsadworg\"\n",
    "\n",
    "print(str2[::-1]): This line prints the result of the slicing operation, which is the reversed string \"slliskatsadworg\".\n",
    "\n",
    "So, when you run this\n",
    "utput will be:\n",
    "\n",
    "Copy code\n",
    "slliskatsadworg\n"
   ]
  },
  {
   "cell_type": "code",
   "execution_count": 69,
   "id": "163b58a2",
   "metadata": {},
   "outputs": [
    {
     "name": "stdout",
     "output_type": "stream",
     "text": [
      "slliksatadworg\n"
     ]
    }
   ],
   "source": [
    "str2 = \"growdataskills\"\n",
    "print(str2[::-1])"
   ]
  },
  {
   "cell_type": "markdown",
   "id": "63c2be37-aa13-409e-a39f-41a62a2fdf32",
   "metadata": {},
   "source": [
    "#### String Immutability"
   ]
  },
  {
   "cell_type": "code",
   "execution_count": 1,
   "id": "4c71b349-1c98-430f-a57f-d3d37192db8d",
   "metadata": {},
   "outputs": [
    {
     "data": {
      "text/plain": [
       "str"
      ]
     },
     "execution_count": 1,
     "metadata": {},
     "output_type": "execute_result"
    }
   ],
   "source": [
    "# Can not reassign \n",
    "t= \"GrowDataSkills\"\n",
    "type(t)"
   ]
  },
  {
   "cell_type": "code",
   "execution_count": 2,
   "id": "b9a7a11d-af0e-4227-b66d-9676caf78936",
   "metadata": {},
   "outputs": [
    {
     "ename": "TypeError",
     "evalue": "'str' object does not support item assignment",
     "output_type": "error",
     "traceback": [
      "\u001b[1;31m---------------------------------------------------------------------------\u001b[0m",
      "\u001b[1;31mTypeError\u001b[0m                                 Traceback (most recent call last)",
      "Cell \u001b[1;32mIn [2], line 1\u001b[0m\n\u001b[1;32m----> 1\u001b[0m \u001b[43mt\u001b[49m\u001b[43m[\u001b[49m\u001b[38;5;241;43m0\u001b[39;49m\u001b[43m]\u001b[49m \u001b[38;5;241m=\u001b[39m \u001b[38;5;124m\"\u001b[39m\u001b[38;5;124mM\u001b[39m\u001b[38;5;124m\"\u001b[39m\n",
      "\u001b[1;31mTypeError\u001b[0m: 'str' object does not support item assignment"
     ]
    }
   ],
   "source": [
    "t[0] = \"M\""
   ]
  },
  {
   "cell_type": "code",
   "execution_count": 3,
   "id": "62602029-0878-430a-9be5-00dff7fc8825",
   "metadata": {},
   "outputs": [],
   "source": [
    "original_string = \"Hello\"\n",
    "new_string = original_string + \" World!\"  # Concatenation creates a new string. "
   ]
  },
  {
   "cell_type": "code",
   "execution_count": 5,
   "id": "30163f62-7a0f-42b2-8465-55cfb820f947",
   "metadata": {},
   "outputs": [
    {
     "data": {
      "text/plain": [
       "'Hello World!'"
      ]
     },
     "execution_count": 5,
     "metadata": {},
     "output_type": "execute_result"
    }
   ],
   "source": [
    "new_string"
   ]
  },
  {
   "cell_type": "code",
   "execution_count": 6,
   "id": "a41cf9a9-b75d-4503-99ee-826f9afc8cb8",
   "metadata": {},
   "outputs": [
    {
     "data": {
      "text/plain": [
       "'Hello'"
      ]
     },
     "execution_count": 6,
     "metadata": {},
     "output_type": "execute_result"
    }
   ],
   "source": [
    "original_string"
   ]
  },
  {
   "cell_type": "markdown",
   "id": "6d0bad34-eac1-4409-a091-a1537358269e",
   "metadata": {},
   "source": [
    "##### in and not in\n",
    "\n",
    "The in and not in operators in Python are used to check whether a particular element exists within a sequence (like a string, list, tuple, etc.). They return a Boolean value (True or False) based on whether the element is present in the sequence or not."
   ]
  },
  {
   "cell_type": "code",
   "execution_count": 7,
   "id": "b19cbcc5-9d4a-4905-9c8f-fb5782cfe254",
   "metadata": {},
   "outputs": [],
   "source": [
    "my_string = \"Hello, World!\""
   ]
  },
  {
   "cell_type": "code",
   "execution_count": 8,
   "id": "c185b58a-3cae-4352-bb2d-0c799b340df8",
   "metadata": {},
   "outputs": [
    {
     "data": {
      "text/plain": [
       "True"
      ]
     },
     "execution_count": 8,
     "metadata": {},
     "output_type": "execute_result"
    }
   ],
   "source": [
    "\"Hello\" in my_string"
   ]
  },
  {
   "cell_type": "code",
   "execution_count": 9,
   "id": "4922f509-0c75-4d30-a84f-fff707542369",
   "metadata": {},
   "outputs": [
    {
     "data": {
      "text/plain": [
       "False"
      ]
     },
     "execution_count": 9,
     "metadata": {},
     "output_type": "execute_result"
    }
   ],
   "source": [
    "\"world\" in my_string"
   ]
  },
  {
   "cell_type": "code",
   "execution_count": 10,
   "id": "d2094e0e-5e14-439e-b0c6-7a78ceefd901",
   "metadata": {},
   "outputs": [
    {
     "data": {
      "text/plain": [
       "False"
      ]
     },
     "execution_count": 10,
     "metadata": {},
     "output_type": "execute_result"
    }
   ],
   "source": [
    "\"z\" in my_string"
   ]
  },
  {
   "cell_type": "code",
   "execution_count": 11,
   "id": "e9db3016-9cd4-461d-8731-b8e7d6c7bd98",
   "metadata": {},
   "outputs": [
    {
     "data": {
      "text/plain": [
       "True"
      ]
     },
     "execution_count": 11,
     "metadata": {},
     "output_type": "execute_result"
    }
   ],
   "source": [
    "\"Hellos\" not in my_string"
   ]
  },
  {
   "cell_type": "markdown",
   "id": "565307f2",
   "metadata": {},
   "source": [
    "### Python Tuple\n",
    "In Python, a tuple is an ordered and immutable collection of elements. It is similar to a list, but unlike lists, tuples cannot be changed after they are created. Tuples are represented using parentheses ( ) and can contain elements of different data types, such as numbers, strings, or even other tuples."
   ]
  },
  {
   "cell_type": "markdown",
   "id": "543e881c",
   "metadata": {},
   "source": [
    "#### Creating a tuple:\n"
   ]
  },
  {
   "cell_type": "code",
   "execution_count": 90,
   "id": "92d57c61",
   "metadata": {},
   "outputs": [
    {
     "data": {
      "text/plain": [
       "('apple', 'banana', 'orange')"
      ]
     },
     "execution_count": 90,
     "metadata": {},
     "output_type": "execute_result"
    }
   ],
   "source": [
    "# Creating a tuple with elements\n",
    "fruits_tuple = ('apple', 'banana', 'orange')\n",
    "fruits_tuple"
   ]
  },
  {
   "cell_type": "code",
   "execution_count": 93,
   "id": "5f4f50cb",
   "metadata": {},
   "outputs": [
    {
     "data": {
      "text/plain": [
       "tuple"
      ]
     },
     "execution_count": 93,
     "metadata": {},
     "output_type": "execute_result"
    }
   ],
   "source": [
    "type(fruits_tuple)"
   ]
  },
  {
   "cell_type": "code",
   "execution_count": 91,
   "id": "115b5a7b",
   "metadata": {},
   "outputs": [
    {
     "data": {
      "text/plain": [
       "(1, 'hello', 3.14, True)"
      ]
     },
     "execution_count": 91,
     "metadata": {},
     "output_type": "execute_result"
    }
   ],
   "source": [
    "# Tuples can also have elements of different data types\n",
    "mixed_tuple = (1, 'hello', 3.14, True)\n",
    "mixed_tuple"
   ]
  },
  {
   "cell_type": "code",
   "execution_count": 92,
   "id": "600123b8",
   "metadata": {},
   "outputs": [
    {
     "data": {
      "text/plain": [
       "tuple"
      ]
     },
     "execution_count": 92,
     "metadata": {},
     "output_type": "execute_result"
    }
   ],
   "source": [
    "type(mixed_tuple)"
   ]
  },
  {
   "cell_type": "markdown",
   "id": "ab0b0d9e",
   "metadata": {},
   "source": [
    "#### Accessing elements of a tuple:\n",
    "You can access elements of a tuple using indexing, similar to string. The index starts from 0 for the first element, 1 for the second, and so on."
   ]
  },
  {
   "cell_type": "code",
   "execution_count": 95,
   "id": "35705f54",
   "metadata": {},
   "outputs": [],
   "source": [
    "tup = (1, 'hello', 3.14, True)"
   ]
  },
  {
   "cell_type": "code",
   "execution_count": 96,
   "id": "6df5d674",
   "metadata": {},
   "outputs": [
    {
     "data": {
      "text/plain": [
       "1"
      ]
     },
     "execution_count": 96,
     "metadata": {},
     "output_type": "execute_result"
    }
   ],
   "source": [
    "tup[0]"
   ]
  },
  {
   "cell_type": "code",
   "execution_count": 97,
   "id": "b91beb91",
   "metadata": {},
   "outputs": [
    {
     "data": {
      "text/plain": [
       "True"
      ]
     },
     "execution_count": 97,
     "metadata": {},
     "output_type": "execute_result"
    }
   ],
   "source": [
    "tup[-1]"
   ]
  },
  {
   "cell_type": "code",
   "execution_count": 98,
   "id": "dae7803e",
   "metadata": {},
   "outputs": [
    {
     "data": {
      "text/plain": [
       "(1, 'hello')"
      ]
     },
     "execution_count": 98,
     "metadata": {},
     "output_type": "execute_result"
    }
   ],
   "source": [
    "tup[0:2]"
   ]
  },
  {
   "cell_type": "markdown",
   "id": "ed542891",
   "metadata": {},
   "source": [
    "#### Immutable nature of tuples:\n",
    "Tuples are immutable, which meansonce they are created, you cannot modify, add, or remove elements from them.\n"
   ]
  },
  {
   "cell_type": "code",
   "execution_count": 99,
   "id": "2cf7404a",
   "metadata": {},
   "outputs": [
    {
     "ename": "TypeError",
     "evalue": "'tuple' object does not support item assignment",
     "output_type": "error",
     "traceback": [
      "\u001b[1;31m---------------------------------------------------------------------------\u001b[0m",
      "\u001b[1;31mTypeError\u001b[0m                                 Traceback (most recent call last)",
      "Cell \u001b[1;32mIn [99], line 3\u001b[0m\n\u001b[0;32m      1\u001b[0m tup \u001b[38;5;241m=\u001b[39m (\u001b[38;5;241m1\u001b[39m, \u001b[38;5;124m'\u001b[39m\u001b[38;5;124mhello\u001b[39m\u001b[38;5;124m'\u001b[39m, \u001b[38;5;241m3.14\u001b[39m, \u001b[38;5;28;01mTrue\u001b[39;00m)\n\u001b[1;32m----> 3\u001b[0m \u001b[43mtup\u001b[49m\u001b[43m[\u001b[49m\u001b[38;5;241;43m0\u001b[39;49m\u001b[43m]\u001b[49m \u001b[38;5;241m=\u001b[39m \u001b[38;5;124m'\u001b[39m\u001b[38;5;124mpear\u001b[39m\u001b[38;5;124m'\u001b[39m\n",
      "\u001b[1;31mTypeError\u001b[0m: 'tuple' object does not support item assignment"
     ]
    }
   ],
   "source": [
    "tup = (1, 'hello', 3.14, True)\n",
    "\n",
    "tup[0] = 'pear'"
   ]
  },
  {
   "cell_type": "markdown",
   "id": "31eb4768",
   "metadata": {},
   "source": [
    "#### Tuple Basic Operation "
   ]
  },
  {
   "cell_type": "code",
   "execution_count": 100,
   "id": "e986eb61",
   "metadata": {},
   "outputs": [
    {
     "data": {
      "text/plain": [
       "4"
      ]
     },
     "execution_count": 100,
     "metadata": {},
     "output_type": "execute_result"
    }
   ],
   "source": [
    "len(tup)"
   ]
  },
  {
   "cell_type": "code",
   "execution_count": 101,
   "id": "d7ed7ae3",
   "metadata": {},
   "outputs": [],
   "source": [
    "tup1=(1,2,3)\n",
    "tup2=(4,5,6)"
   ]
  },
  {
   "cell_type": "code",
   "execution_count": 102,
   "id": "55b342a3",
   "metadata": {},
   "outputs": [
    {
     "data": {
      "text/plain": [
       "((1, 2, 3), (4, 5, 6))"
      ]
     },
     "execution_count": 102,
     "metadata": {},
     "output_type": "execute_result"
    }
   ],
   "source": [
    "tup1,tup2"
   ]
  },
  {
   "cell_type": "code",
   "execution_count": 103,
   "id": "431766d5",
   "metadata": {},
   "outputs": [
    {
     "data": {
      "text/plain": [
       "(1, 2, 3, 4, 5, 6)"
      ]
     },
     "execution_count": 103,
     "metadata": {},
     "output_type": "execute_result"
    }
   ],
   "source": [
    "tup1+tup2"
   ]
  },
  {
   "cell_type": "code",
   "execution_count": 105,
   "id": "8dda8b05",
   "metadata": {},
   "outputs": [
    {
     "data": {
      "text/plain": [
       "(4, 5, 6, 1, 2, 3)"
      ]
     },
     "execution_count": 105,
     "metadata": {},
     "output_type": "execute_result"
    }
   ],
   "source": [
    "tup2+tup1"
   ]
  },
  {
   "cell_type": "code",
   "execution_count": 106,
   "id": "d9e0072d",
   "metadata": {},
   "outputs": [
    {
     "data": {
      "text/plain": [
       "(4, 5, 6, 4, 5, 6, 4, 5, 6)"
      ]
     },
     "execution_count": 106,
     "metadata": {},
     "output_type": "execute_result"
    }
   ],
   "source": [
    "tup2*3"
   ]
  },
  {
   "cell_type": "code",
   "execution_count": 107,
   "id": "4ab79b61",
   "metadata": {},
   "outputs": [
    {
     "data": {
      "text/plain": [
       "(4, 5, 6, 4, 5, 6, 4, 5, 6, 1, 2, 3)"
      ]
     },
     "execution_count": 107,
     "metadata": {},
     "output_type": "execute_result"
    }
   ],
   "source": [
    "tup2*3+tup1"
   ]
  },
  {
   "cell_type": "code",
   "execution_count": 108,
   "id": "6e93c308",
   "metadata": {},
   "outputs": [],
   "source": [
    "tup1=(10,15,20,25,30,25,40)"
   ]
  },
  {
   "cell_type": "code",
   "execution_count": 109,
   "id": "93d0d446",
   "metadata": {},
   "outputs": [
    {
     "data": {
      "text/plain": [
       "10"
      ]
     },
     "execution_count": 109,
     "metadata": {},
     "output_type": "execute_result"
    }
   ],
   "source": [
    "min(tup1)"
   ]
  },
  {
   "cell_type": "code",
   "execution_count": 110,
   "id": "6ef48b8f",
   "metadata": {},
   "outputs": [
    {
     "data": {
      "text/plain": [
       "40"
      ]
     },
     "execution_count": 110,
     "metadata": {},
     "output_type": "execute_result"
    }
   ],
   "source": [
    "max(tup1)"
   ]
  },
  {
   "cell_type": "markdown",
   "id": "338b5a7e",
   "metadata": {},
   "source": [
    "#### Tuple unpacking:\n",
    "You can also unpack a tuple into individual variables."
   ]
  },
  {
   "cell_type": "code",
   "execution_count": 112,
   "id": "970c1776",
   "metadata": {},
   "outputs": [
    {
     "name": "stdout",
     "output_type": "stream",
     "text": [
      "10\n",
      "20\n"
     ]
    }
   ],
   "source": [
    "coordinates = (10, 20)\n",
    "x, y = coordinates\n",
    "print(x) \n",
    "print(y)  "
   ]
  },
  {
   "cell_type": "markdown",
   "id": "489cf603",
   "metadata": {},
   "source": [
    "### Python Lists\n",
    "In Python, a list is an ordered and mutable collection of elements. Lists are one of the most versatile and widely used data structures in Python. They can hold elements of different data types, such as numbers, strings, or even other lists. Lists are represented using square brackets [ ].\n"
   ]
  },
  {
   "cell_type": "markdown",
   "id": "48530efa",
   "metadata": {},
   "source": [
    "#### Creating a list:\n"
   ]
  },
  {
   "cell_type": "code",
   "execution_count": 115,
   "id": "bd3bc7ed",
   "metadata": {},
   "outputs": [
    {
     "data": {
      "text/plain": [
       "[1, 2, 3, 4, 5]"
      ]
     },
     "execution_count": 115,
     "metadata": {},
     "output_type": "execute_result"
    }
   ],
   "source": [
    "# Creating a list with elements\n",
    "numbers_list = [1, 2, 3, 4, 5]\n",
    "\n",
    "numbers_list"
   ]
  },
  {
   "cell_type": "code",
   "execution_count": 116,
   "id": "6121bbfa",
   "metadata": {},
   "outputs": [
    {
     "data": {
      "text/plain": [
       "list"
      ]
     },
     "execution_count": 116,
     "metadata": {},
     "output_type": "execute_result"
    }
   ],
   "source": [
    "type(numbers_list)"
   ]
  },
  {
   "cell_type": "code",
   "execution_count": 117,
   "id": "495d7471",
   "metadata": {},
   "outputs": [
    {
     "data": {
      "text/plain": [
       "[1, 'hello', 3.14, True]"
      ]
     },
     "execution_count": 117,
     "metadata": {},
     "output_type": "execute_result"
    }
   ],
   "source": [
    "# Lists can also have elements of different data types\n",
    "mixed_list = [1, 'hello', 3.14, True]\n",
    "\n",
    "mixed_list"
   ]
  },
  {
   "cell_type": "code",
   "execution_count": 118,
   "id": "500227da",
   "metadata": {},
   "outputs": [
    {
     "data": {
      "text/plain": [
       "list"
      ]
     },
     "execution_count": 118,
     "metadata": {},
     "output_type": "execute_result"
    }
   ],
   "source": [
    "type(mixed_list)"
   ]
  },
  {
   "cell_type": "markdown",
   "id": "d7d18ea9",
   "metadata": {},
   "source": [
    "#### Accessing elements of a list:\n",
    "You can access elements of a list using indexing. The index starts from 0 for the first element, 1 for the second, and so on."
   ]
  },
  {
   "cell_type": "code",
   "execution_count": 119,
   "id": "37134767",
   "metadata": {},
   "outputs": [],
   "source": [
    "l1= [1, 'hello', 3.14, True]"
   ]
  },
  {
   "cell_type": "code",
   "execution_count": 120,
   "id": "12a6ecaf",
   "metadata": {},
   "outputs": [
    {
     "data": {
      "text/plain": [
       "'hello'"
      ]
     },
     "execution_count": 120,
     "metadata": {},
     "output_type": "execute_result"
    }
   ],
   "source": [
    "l1[1]"
   ]
  },
  {
   "cell_type": "code",
   "execution_count": 124,
   "id": "6e837c07",
   "metadata": {},
   "outputs": [
    {
     "data": {
      "text/plain": [
       "True"
      ]
     },
     "execution_count": 124,
     "metadata": {},
     "output_type": "execute_result"
    }
   ],
   "source": [
    "l1[-1]"
   ]
  },
  {
   "cell_type": "code",
   "execution_count": 123,
   "id": "0b34c696",
   "metadata": {},
   "outputs": [
    {
     "data": {
      "text/plain": [
       "['hello', 3.14]"
      ]
     },
     "execution_count": 123,
     "metadata": {},
     "output_type": "execute_result"
    }
   ],
   "source": [
    "l1[1:3]"
   ]
  },
  {
   "cell_type": "markdown",
   "id": "6d6b6aa4",
   "metadata": {},
   "source": [
    "#### Modifying elements of a list:\n",
    "Lists are mutable, which means you can change their elements after they are created."
   ]
  },
  {
   "cell_type": "code",
   "execution_count": 125,
   "id": "7d7fee02",
   "metadata": {},
   "outputs": [
    {
     "data": {
      "text/plain": [
       "['pear', 'hello', 3.14, True]"
      ]
     },
     "execution_count": 125,
     "metadata": {},
     "output_type": "execute_result"
    }
   ],
   "source": [
    "l1= [1, 'hello', 3.14, True]\n",
    "l1[0] = 'pear'\n",
    "\n",
    "l1"
   ]
  },
  {
   "cell_type": "markdown",
   "id": "2cd13946",
   "metadata": {},
   "source": [
    "#### Removing elements from a list:\n",
    "You can remove elements from a list using methods like remove() or pop()."
   ]
  },
  {
   "cell_type": "code",
   "execution_count": 133,
   "id": "816006dc",
   "metadata": {},
   "outputs": [
    {
     "data": {
      "text/plain": [
       "[1, 'hello', 3.14]"
      ]
     },
     "execution_count": 133,
     "metadata": {},
     "output_type": "execute_result"
    }
   ],
   "source": [
    "l1= [1, 'hello', 3.14, True]\n",
    "l1.pop()\n",
    "\n",
    "l1"
   ]
  },
  {
   "cell_type": "code",
   "execution_count": 129,
   "id": "a3d22cdb",
   "metadata": {},
   "outputs": [
    {
     "data": {
      "text/plain": [
       "[1, 3.14, True]"
      ]
     },
     "execution_count": 129,
     "metadata": {},
     "output_type": "execute_result"
    }
   ],
   "source": [
    "l1= [1, 'hello', 3.14, True]\n",
    "l1.remove('hello')\n",
    "\n",
    "l1"
   ]
  },
  {
   "cell_type": "markdown",
   "id": "a69957cf",
   "metadata": {},
   "source": [
    "#### Adding elements to a list:\n",
    "You can add elements to the end of a list using the append() method."
   ]
  },
  {
   "cell_type": "code",
   "execution_count": 127,
   "id": "c7e867c0",
   "metadata": {},
   "outputs": [
    {
     "data": {
      "text/plain": [
       "[1, 'hello', 3.14, True, 'Shailja']"
      ]
     },
     "execution_count": 127,
     "metadata": {},
     "output_type": "execute_result"
    }
   ],
   "source": [
    "l1= [1, 'hello', 3.14, True]\n",
    "l1.append(\"Shailja\")\n",
    "\n",
    "l1"
   ]
  },
  {
   "cell_type": "markdown",
   "id": "d6e50736",
   "metadata": {},
   "source": [
    "#### Other List Operations"
   ]
  },
  {
   "cell_type": "code",
   "execution_count": 134,
   "id": "bdc2cbca",
   "metadata": {},
   "outputs": [
    {
     "data": {
      "text/plain": [
       "['apple', 'banana', 'orange', 'mango', 'guava']"
      ]
     },
     "execution_count": 134,
     "metadata": {},
     "output_type": "execute_result"
    }
   ],
   "source": [
    "l1= ['apple', 'banana', 'orange']\n",
    "l2=['mango','guava']\n",
    "\n",
    "l1+l2"
   ]
  },
  {
   "cell_type": "code",
   "execution_count": 135,
   "id": "0e33ac2f",
   "metadata": {},
   "outputs": [
    {
     "data": {
      "text/plain": [
       "[True, 3.14, 'hello', 1]"
      ]
     },
     "execution_count": 135,
     "metadata": {},
     "output_type": "execute_result"
    }
   ],
   "source": [
    "l1= [1, 'hello', 3.14, True]\n",
    "l1.reverse()\n",
    "\n",
    "l1"
   ]
  },
  {
   "cell_type": "code",
   "execution_count": 137,
   "id": "9333e90f",
   "metadata": {},
   "outputs": [
    {
     "data": {
      "text/plain": [
       "['apple', 'banana', 'guava', 'mango', 'orange']"
      ]
     },
     "execution_count": 137,
     "metadata": {},
     "output_type": "execute_result"
    }
   ],
   "source": [
    "l1= ['apple', 'banana', 'orange','mango','guava']\n",
    "l1.sort()\n",
    "\n",
    "l1"
   ]
  },
  {
   "cell_type": "code",
   "execution_count": 138,
   "id": "461aca4b",
   "metadata": {},
   "outputs": [
    {
     "data": {
      "text/plain": [
       "['apple', 'lichi', 'banana', 'orange', 'mango', 'guava']"
      ]
     },
     "execution_count": 138,
     "metadata": {},
     "output_type": "execute_result"
    }
   ],
   "source": [
    "l1= ['apple', 'banana', 'orange','mango','guava']\n",
    "l1.insert(1,\"lichi\")\n",
    "\n",
    "l1"
   ]
  },
  {
   "cell_type": "markdown",
   "id": "b6946dda",
   "metadata": {},
   "source": [
    "#### When we should use lists and when tuples in Python:\n",
    "\n",
    "* Use Lists When:\n",
    "\n",
    "You need a collection of items that can be changed or modified over time.\n",
    "You want to add or remove elements from the collection dynamically.\n",
    "The order of elements matters, and you need to maintain the original order.\n",
    "You need to use built-in list methods for sorting, appending, or extending the collection.\n",
    "You plan to perform various operations on the elements like searching, filtering, or counting.\n",
    "\n",
    "Example Case:\n",
    "Suppose you are building a to-do list application. Users can add, remove, and modify their tasks. In this case, using a list to store the tasks makes sense because you can easily add new tasks, mark them as completed, or remove them as the user interacts with the application.\n",
    "\n",
    "* Use Tuples When:\n",
    "\n",
    "You want to create a collection of items that should remain constant and immutable throughout the program's execution.\n",
    "You need to use the collection as a key in a dictionary because dictionary keys must be immutable.\n",
    "You want to guarantee that the order of elements will not change accidentally.\n",
    "You want to use a collection as a set of coordinates or a point in space.\n",
    "\n",
    "\n",
    "Example Case:\n",
    "Suppose you are working on a geometric shapes application, and you want to represent different points in 2D space. In this case, using tuples for the coordinates is suitable because the coordinates of points should not change, and they should be used as keys in a dictionary."
   ]
  },
  {
   "cell_type": "markdown",
   "id": "d5885d8e",
   "metadata": {},
   "source": [
    "### Python Dictionary\n",
    "\n",
    "Dictionary is a collection of key-value pairs. They are unordered, mutable, and extremely useful for organizing and retrieving data quickly based on specific keys."
   ]
  },
  {
   "cell_type": "code",
   "execution_count": 7,
   "id": "5b007cbe",
   "metadata": {},
   "outputs": [],
   "source": [
    "# Creating a dictionary of students and their scores\n",
    "student_scores = {\n",
    "    \"Alice\": 85,\n",
    "    \"Bob\": 92,\n",
    "    \"Charlie\": 78,\n",
    "    \"David\": 95,\n",
    "    \"Emma\": 88\n",
    "}"
   ]
  },
  {
   "cell_type": "code",
   "execution_count": 8,
   "id": "175798e8",
   "metadata": {},
   "outputs": [
    {
     "data": {
      "text/plain": [
       "{'Alice': 85, 'Bob': 92, 'Charlie': 78, 'David': 95, 'Emma': 88}"
      ]
     },
     "execution_count": 8,
     "metadata": {},
     "output_type": "execute_result"
    }
   ],
   "source": [
    "student_scores"
   ]
  },
  {
   "cell_type": "code",
   "execution_count": 9,
   "id": "e6499c67",
   "metadata": {},
   "outputs": [
    {
     "data": {
      "text/plain": [
       "dict"
      ]
     },
     "execution_count": 9,
     "metadata": {},
     "output_type": "execute_result"
    }
   ],
   "source": [
    "type(student_scores)"
   ]
  },
  {
   "cell_type": "code",
   "execution_count": 10,
   "id": "46cc7137",
   "metadata": {},
   "outputs": [
    {
     "data": {
      "text/plain": [
       "dict_keys(['Alice', 'Bob', 'Charlie', 'David', 'Emma'])"
      ]
     },
     "execution_count": 10,
     "metadata": {},
     "output_type": "execute_result"
    }
   ],
   "source": [
    "student_scores.keys()"
   ]
  },
  {
   "cell_type": "code",
   "execution_count": 11,
   "id": "f44afb33",
   "metadata": {},
   "outputs": [
    {
     "data": {
      "text/plain": [
       "dict_values([85, 92, 78, 95, 88])"
      ]
     },
     "execution_count": 11,
     "metadata": {},
     "output_type": "execute_result"
    }
   ],
   "source": [
    "student_scores.values()"
   ]
  },
  {
   "cell_type": "code",
   "execution_count": 12,
   "id": "67542bf1",
   "metadata": {},
   "outputs": [
    {
     "data": {
      "text/plain": [
       "92"
      ]
     },
     "execution_count": 12,
     "metadata": {},
     "output_type": "execute_result"
    }
   ],
   "source": [
    "# Accessing a student's score\n",
    "\n",
    "student_scores[\"Bob\"]"
   ]
  },
  {
   "cell_type": "code",
   "execution_count": 13,
   "id": "dcaed398",
   "metadata": {},
   "outputs": [],
   "source": [
    "# Adding a new student and their score\n",
    "\n",
    "student_scores[\"Shailja\"] = 99"
   ]
  },
  {
   "cell_type": "code",
   "execution_count": 14,
   "id": "3abf25c9",
   "metadata": {},
   "outputs": [
    {
     "data": {
      "text/plain": [
       "{'Alice': 85, 'Bob': 92, 'Charlie': 78, 'David': 95, 'Emma': 88, 'Shailja': 99}"
      ]
     },
     "execution_count": 14,
     "metadata": {},
     "output_type": "execute_result"
    }
   ],
   "source": [
    "student_scores"
   ]
  },
  {
   "cell_type": "code",
   "execution_count": 15,
   "id": "ee207884",
   "metadata": {},
   "outputs": [],
   "source": [
    "# Modifying a student's score\n",
    "\n",
    "student_scores[\"Charlie\"] = 81"
   ]
  },
  {
   "cell_type": "code",
   "execution_count": 16,
   "id": "01d84878",
   "metadata": {},
   "outputs": [
    {
     "data": {
      "text/plain": [
       "{'Alice': 85, 'Bob': 92, 'Charlie': 81, 'David': 95, 'Emma': 88, 'Shailja': 99}"
      ]
     },
     "execution_count": 16,
     "metadata": {},
     "output_type": "execute_result"
    }
   ],
   "source": [
    "student_scores"
   ]
  },
  {
   "cell_type": "code",
   "execution_count": 18,
   "id": "d4e0707b",
   "metadata": {},
   "outputs": [],
   "source": [
    "# Removing a student and their score\n",
    "\n",
    "del student_scores[\"Emma\"]"
   ]
  },
  {
   "cell_type": "code",
   "execution_count": 19,
   "id": "b3b0e333",
   "metadata": {},
   "outputs": [
    {
     "data": {
      "text/plain": [
       "{'Alice': 85, 'Bob': 92, 'Charlie': 81, 'David': 95, 'Shailja': 99}"
      ]
     },
     "execution_count": 19,
     "metadata": {},
     "output_type": "execute_result"
    }
   ],
   "source": [
    "student_scores"
   ]
  },
  {
   "cell_type": "code",
   "execution_count": 17,
   "id": "fd33dcaf",
   "metadata": {},
   "outputs": [
    {
     "name": "stdout",
     "output_type": "stream",
     "text": [
      "Bob's score exists in the dictionary.\n"
     ]
    }
   ],
   "source": [
    "# Checking if a student exists in the dictionary\n",
    "\n",
    "if \"Bob\" in student_scores:\n",
    "else:\n",
    "    print(\"Bob's score does not exist in the dictionary.\")"
   ]
  },
  {
   "cell_type": "markdown",
   "id": "21cd9d2f",
   "metadata": {},
   "source": [
    "### Python Set\n",
    "\n",
    "It is an unordered collection of unique elements. It is denoted by curly braces {} and can contain elements of different data types, such as integers, strings, or even other sets. \n",
    "\n",
    "* The key feature of a set is that it does not allow duplicate values, so each element in a set must be unique. \n",
    "* Sets are mutable, meaning you can add or remove elements after creating them."
   ]
  },
  {
   "cell_type": "code",
   "execution_count": 20,
   "id": "b9ef0f4f",
   "metadata": {},
   "outputs": [],
   "source": [
    "my_set = {1, 2, 3, 4}"
   ]
  },
  {
   "cell_type": "code",
   "execution_count": 21,
   "id": "56969926",
   "metadata": {},
   "outputs": [
    {
     "data": {
      "text/plain": [
       "{1, 2, 3, 4}"
      ]
     },
     "execution_count": 21,
     "metadata": {},
     "output_type": "execute_result"
    }
   ],
   "source": [
    "my_set"
   ]
  },
  {
   "cell_type": "code",
   "execution_count": 25,
   "id": "04b81c0e",
   "metadata": {},
   "outputs": [],
   "source": [
    "# adding duplicates\n",
    "\n",
    "my_set= {1, 3, 2, 3, 2, 4}"
   ]
  },
  {
   "cell_type": "code",
   "execution_count": 26,
   "id": "3ae8c276",
   "metadata": {},
   "outputs": [
    {
     "data": {
      "text/plain": [
       "{1, 2, 3, 4}"
      ]
     },
     "execution_count": 26,
     "metadata": {},
     "output_type": "execute_result"
    }
   ],
   "source": [
    "my_set"
   ]
  },
  {
   "cell_type": "markdown",
   "id": "be9bd8be",
   "metadata": {},
   "source": [
    "#### Adding elements to a set:\n",
    "You can add elements to a set using the add() method."
   ]
  },
  {
   "cell_type": "code",
   "execution_count": 27,
   "id": "49ab11c7",
   "metadata": {},
   "outputs": [],
   "source": [
    "fruits = {'apple', 'banana', 'orange'}"
   ]
  },
  {
   "cell_type": "code",
   "execution_count": 28,
   "id": "a9df0ca2",
   "metadata": {},
   "outputs": [],
   "source": [
    "fruits.add('grape')"
   ]
  },
  {
   "cell_type": "code",
   "execution_count": 29,
   "id": "82cee8a8",
   "metadata": {},
   "outputs": [
    {
     "data": {
      "text/plain": [
       "{'apple', 'banana', 'grape', 'orange'}"
      ]
     },
     "execution_count": 29,
     "metadata": {},
     "output_type": "execute_result"
    }
   ],
   "source": [
    "fruits"
   ]
  },
  {
   "cell_type": "code",
   "execution_count": 30,
   "id": "f875289b",
   "metadata": {},
   "outputs": [],
   "source": [
    "fruits.add('apple')"
   ]
  },
  {
   "cell_type": "code",
   "execution_count": 31,
   "id": "18c7de72",
   "metadata": {},
   "outputs": [
    {
     "data": {
      "text/plain": [
       "{'apple', 'banana', 'grape', 'orange'}"
      ]
     },
     "execution_count": 31,
     "metadata": {},
     "output_type": "execute_result"
    }
   ],
   "source": [
    "fruits"
   ]
  },
  {
   "cell_type": "code",
   "execution_count": 32,
   "id": "5967460f",
   "metadata": {},
   "outputs": [],
   "source": [
    "fruits.update(['lichi','guava'])"
   ]
  },
  {
   "cell_type": "code",
   "execution_count": 33,
   "id": "634cde10",
   "metadata": {},
   "outputs": [
    {
     "data": {
      "text/plain": [
       "{'apple', 'banana', 'grape', 'guava', 'lichi', 'orange'}"
      ]
     },
     "execution_count": 33,
     "metadata": {},
     "output_type": "execute_result"
    }
   ],
   "source": [
    "fruits"
   ]
  },
  {
   "cell_type": "markdown",
   "id": "5be1d04a",
   "metadata": {},
   "source": [
    "#### Removing elements from a set:\n",
    "You can remove elements from a set using the remove() method. If the element is not present in the set, it will raise a KeyError. Alternatively, you can use the discard() method, which does not raise an error if the element is not found."
   ]
  },
  {
   "cell_type": "code",
   "execution_count": 34,
   "id": "e7b78513",
   "metadata": {},
   "outputs": [],
   "source": [
    "fruits = {'apple', 'banana', 'orange'}"
   ]
  },
  {
   "cell_type": "code",
   "execution_count": 35,
   "id": "b23cd393",
   "metadata": {},
   "outputs": [],
   "source": [
    "fruits.remove('banana')"
   ]
  },
  {
   "cell_type": "code",
   "execution_count": 36,
   "id": "411a2ca0",
   "metadata": {},
   "outputs": [
    {
     "data": {
      "text/plain": [
       "{'apple', 'orange'}"
      ]
     },
     "execution_count": 36,
     "metadata": {},
     "output_type": "execute_result"
    }
   ],
   "source": [
    "fruits"
   ]
  },
  {
   "cell_type": "code",
   "execution_count": 37,
   "id": "4f02f47a",
   "metadata": {},
   "outputs": [
    {
     "ename": "KeyError",
     "evalue": "'grape'",
     "output_type": "error",
     "traceback": [
      "\u001b[1;31m---------------------------------------------------------------------------\u001b[0m",
      "\u001b[1;31mKeyError\u001b[0m                                  Traceback (most recent call last)",
      "Cell \u001b[1;32mIn [37], line 3\u001b[0m\n\u001b[0;32m      1\u001b[0m \u001b[38;5;66;03m# Trying to remove a non-existing element\u001b[39;00m\n\u001b[1;32m----> 3\u001b[0m \u001b[43mfruits\u001b[49m\u001b[38;5;241;43m.\u001b[39;49m\u001b[43mremove\u001b[49m\u001b[43m(\u001b[49m\u001b[38;5;124;43m'\u001b[39;49m\u001b[38;5;124;43mgrape\u001b[39;49m\u001b[38;5;124;43m'\u001b[39;49m\u001b[43m)\u001b[49m\n",
      "\u001b[1;31mKeyError\u001b[0m: 'grape'"
     ]
    }
   ],
   "source": [
    "# Trying to remove a non-existing element\n",
    "\n",
    "fruits.remove('grape')"
   ]
  },
  {
   "cell_type": "code",
   "execution_count": 38,
   "id": "5cc90a60",
   "metadata": {},
   "outputs": [],
   "source": [
    "fruits.discard('grape')"
   ]
  },
  {
   "cell_type": "code",
   "execution_count": 39,
   "id": "01f51068",
   "metadata": {},
   "outputs": [
    {
     "data": {
      "text/plain": [
       "{'apple', 'orange'}"
      ]
     },
     "execution_count": 39,
     "metadata": {},
     "output_type": "execute_result"
    }
   ],
   "source": [
    "fruits"
   ]
  },
  {
   "cell_type": "markdown",
   "id": "0cea4eb7",
   "metadata": {},
   "source": [
    "#### Set Functions:"
   ]
  },
  {
   "cell_type": "code",
   "execution_count": 40,
   "id": "d5c5cde0",
   "metadata": {},
   "outputs": [],
   "source": [
    "set1 = {1, 2, 3}\n",
    "set2 = {3, 4, 5}"
   ]
  },
  {
   "cell_type": "code",
   "execution_count": 41,
   "id": "71af0fad",
   "metadata": {},
   "outputs": [
    {
     "data": {
      "text/plain": [
       "{1, 2, 3, 4, 5}"
      ]
     },
     "execution_count": 41,
     "metadata": {},
     "output_type": "execute_result"
    }
   ],
   "source": [
    "# Union: Elements present in either set\n",
    "\n",
    "union_set = set1.union(set2)\n",
    "\n",
    "\n",
    "union_set"
   ]
  },
  {
   "cell_type": "code",
   "execution_count": 42,
   "id": "28666cb9",
   "metadata": {},
   "outputs": [
    {
     "data": {
      "text/plain": [
       "{3}"
      ]
     },
     "execution_count": 42,
     "metadata": {},
     "output_type": "execute_result"
    }
   ],
   "source": [
    "# Intersection: Elements present in both sets\n",
    "\n",
    "intersection_set = set1.intersection(set2)\n",
    "\n",
    "\n",
    "intersection_set "
   ]
  },
  {
   "cell_type": "code",
   "execution_count": 43,
   "id": "893e5127",
   "metadata": {},
   "outputs": [
    {
     "data": {
      "text/plain": [
       "{1, 2}"
      ]
     },
     "execution_count": 43,
     "metadata": {},
     "output_type": "execute_result"
    }
   ],
   "source": [
    "# Difference: Elements present in set1 but not in set2\n",
    "\n",
    "difference_set = set1.difference(set2)\n",
    "\n",
    "\n",
    "difference_set"
   ]
  }
 ],
 "metadata": {
  "kernelspec": {
   "display_name": "Python 3 (ipykernel)",
   "language": "python",
   "name": "python3"
  },
  "language_info": {
   "codemirror_mode": {
    "name": "ipython",
    "version": 3
   },
   "file_extension": ".py",
   "mimetype": "text/x-python",
   "name": "python",
   "nbconvert_exporter": "python",
   "pygments_lexer": "ipython3",
   "version": "3.10.11"
  }
 },
 "nbformat": 4,
 "nbformat_minor": 5
}
